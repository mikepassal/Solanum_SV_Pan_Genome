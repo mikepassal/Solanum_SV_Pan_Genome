{
 "cells": [
  {
   "cell_type": "code",
   "execution_count": 1,
   "metadata": {
    "vscode": {
     "languageId": "r"
    }
   },
   "outputs": [],
   "source": [
    "# ..... get Summary and SraRunInfo files from SRA db and find how many are RNA-seq datasets ..... #"
   ]
  },
  {
   "cell_type": "code",
   "execution_count": 2,
   "metadata": {
    "vscode": {
     "languageId": "r"
    }
   },
   "outputs": [
    {
     "name": "stderr",
     "output_type": "stream",
     "text": [
      "\n",
      "Attaching package: ‘dplyr’\n",
      "\n",
      "\n",
      "The following objects are masked from ‘package:stats’:\n",
      "\n",
      "    filter, lag\n",
      "\n",
      "\n",
      "The following objects are masked from ‘package:base’:\n",
      "\n",
      "    intersect, setdiff, setequal, union\n",
      "\n",
      "\n"
     ]
    }
   ],
   "source": [
    "library(dplyr)"
   ]
  },
  {
   "cell_type": "code",
   "execution_count": 3,
   "metadata": {
    "vscode": {
     "languageId": "r"
    }
   },
   "outputs": [
    {
     "data": {
      "text/html": [
       "<table class=\"dataframe\">\n",
       "<caption>A data.frame: 6 × 17</caption>\n",
       "<thead>\n",
       "\t<tr><th></th><th scope=col>Experiment.Accession</th><th scope=col>Experiment.Title</th><th scope=col>Organism.Name</th><th scope=col>Instrument</th><th scope=col>Submitter</th><th scope=col>Study.Accession</th><th scope=col>Study.Title</th><th scope=col>Sample.Accession</th><th scope=col>Sample.Title</th><th scope=col>Total.Size..Mb</th><th scope=col>Total.RUNs</th><th scope=col>Total.Spots</th><th scope=col>Total.Bases</th><th scope=col>Library.Name</th><th scope=col>Library.Strategy</th><th scope=col>Library.Source</th><th scope=col>Library.Selection</th></tr>\n",
       "\t<tr><th></th><th scope=col>&lt;chr&gt;</th><th scope=col>&lt;chr&gt;</th><th scope=col>&lt;chr&gt;</th><th scope=col>&lt;chr&gt;</th><th scope=col>&lt;chr&gt;</th><th scope=col>&lt;chr&gt;</th><th scope=col>&lt;chr&gt;</th><th scope=col>&lt;chr&gt;</th><th scope=col>&lt;lgl&gt;</th><th scope=col>&lt;dbl&gt;</th><th scope=col>&lt;int&gt;</th><th scope=col>&lt;int&gt;</th><th scope=col>&lt;dbl&gt;</th><th scope=col>&lt;chr&gt;</th><th scope=col>&lt;chr&gt;</th><th scope=col>&lt;chr&gt;</th><th scope=col>&lt;chr&gt;</th></tr>\n",
       "</thead>\n",
       "<tbody>\n",
       "\t<tr><th scope=row>1</th><td>SRX11117693</td><td>RIP-seq of Physcomitrium patens: WT RIP biological replicate 3  </td><td>Physcomitrium patens</td><td>Illumina NovaSeq 6000</td><td>Academia Sinica</td><td>SRP323685</td><td>Physcomitrium patens raw sequence reads: TRIBE and RIP</td><td>SRS9181501</td><td>NA</td><td>4524.18</td><td>1</td><td>48837348</td><td>15090740532</td><td>RIPseq: WT_rep3      </td><td>RIP-Seq</td><td>TRANSCRIPTOMIC</td><td>other</td></tr>\n",
       "\t<tr><th scope=row>2</th><td>SRX11117692</td><td>RIP-seq of Physcomitrium patens: WT RIP biological replicate 2  </td><td>Physcomitrium patens</td><td>Illumina NovaSeq 6000</td><td>Academia Sinica</td><td>SRP323685</td><td>Physcomitrium patens raw sequence reads: TRIBE and RIP</td><td>SRS9181501</td><td>NA</td><td>6436.34</td><td>1</td><td>70344132</td><td>21736336788</td><td>RIPseq: WT_rep2      </td><td>RIP-Seq</td><td>TRANSCRIPTOMIC</td><td>other</td></tr>\n",
       "\t<tr><th scope=row>3</th><td>SRX11117691</td><td>RIP-seq of Physcomitrium patens: WT RIP biological replicate 1  </td><td>Physcomitrium patens</td><td>Illumina NovaSeq 6000</td><td>Academia Sinica</td><td>SRP323685</td><td>Physcomitrium patens raw sequence reads: TRIBE and RIP</td><td>SRS9181501</td><td>NA</td><td>4792.38</td><td>1</td><td>51862223</td><td>16025426907</td><td>RIPseq: WT_rep1      </td><td>RIP-Seq</td><td>TRANSCRIPTOMIC</td><td>other</td></tr>\n",
       "\t<tr><th scope=row>4</th><td>SRX11117690</td><td>RIP-seq of Physcomitrium patens: PTB2 RIP biological replicate 3</td><td>Physcomitrium patens</td><td>Illumina NovaSeq 6000</td><td>Academia Sinica</td><td>SRP323685</td><td>Physcomitrium patens raw sequence reads: TRIBE and RIP</td><td>SRS9181500</td><td>NA</td><td>4382.83</td><td>1</td><td>46238456</td><td>14287682904</td><td>RIPseq: PTB-5myc_rep3</td><td>RIP-Seq</td><td>TRANSCRIPTOMIC</td><td>other</td></tr>\n",
       "\t<tr><th scope=row>5</th><td>SRX11117689</td><td>RIP-seq of Physcomitrium patens: PTB2 RIP biological replicate 2</td><td>Physcomitrium patens</td><td>Illumina NovaSeq 6000</td><td>Academia Sinica</td><td>SRP323685</td><td>Physcomitrium patens raw sequence reads: TRIBE and RIP</td><td>SRS9181500</td><td>NA</td><td>5838.25</td><td>1</td><td>61627766</td><td>19042979694</td><td>RIPseq: PTB-5myc_rep2</td><td>RIP-Seq</td><td>TRANSCRIPTOMIC</td><td>other</td></tr>\n",
       "\t<tr><th scope=row>6</th><td>SRX11117688</td><td>RIP-seq of Physcomitrium patens: PTB2 RIP biological replicate 1</td><td>Physcomitrium patens</td><td>Illumina NovaSeq 6000</td><td>Academia Sinica</td><td>SRP323685</td><td>Physcomitrium patens raw sequence reads: TRIBE and RIP</td><td>SRS9181500</td><td>NA</td><td>4324.78</td><td>1</td><td>45959247</td><td>14201407323</td><td>RIPseq: PTB-5myc_rep1</td><td>RIP-Seq</td><td>TRANSCRIPTOMIC</td><td>other</td></tr>\n",
       "</tbody>\n",
       "</table>\n"
      ],
      "text/latex": [
       "A data.frame: 6 × 17\n",
       "\\begin{tabular}{r|lllllllllllllllll}\n",
       "  & Experiment.Accession & Experiment.Title & Organism.Name & Instrument & Submitter & Study.Accession & Study.Title & Sample.Accession & Sample.Title & Total.Size..Mb & Total.RUNs & Total.Spots & Total.Bases & Library.Name & Library.Strategy & Library.Source & Library.Selection\\\\\n",
       "  & <chr> & <chr> & <chr> & <chr> & <chr> & <chr> & <chr> & <chr> & <lgl> & <dbl> & <int> & <int> & <dbl> & <chr> & <chr> & <chr> & <chr>\\\\\n",
       "\\hline\n",
       "\t1 & SRX11117693 & RIP-seq of Physcomitrium patens: WT RIP biological replicate 3   & Physcomitrium patens & Illumina NovaSeq 6000 & Academia Sinica & SRP323685 & Physcomitrium patens raw sequence reads: TRIBE and RIP & SRS9181501 & NA & 4524.18 & 1 & 48837348 & 15090740532 & RIPseq: WT\\_rep3       & RIP-Seq & TRANSCRIPTOMIC & other\\\\\n",
       "\t2 & SRX11117692 & RIP-seq of Physcomitrium patens: WT RIP biological replicate 2   & Physcomitrium patens & Illumina NovaSeq 6000 & Academia Sinica & SRP323685 & Physcomitrium patens raw sequence reads: TRIBE and RIP & SRS9181501 & NA & 6436.34 & 1 & 70344132 & 21736336788 & RIPseq: WT\\_rep2       & RIP-Seq & TRANSCRIPTOMIC & other\\\\\n",
       "\t3 & SRX11117691 & RIP-seq of Physcomitrium patens: WT RIP biological replicate 1   & Physcomitrium patens & Illumina NovaSeq 6000 & Academia Sinica & SRP323685 & Physcomitrium patens raw sequence reads: TRIBE and RIP & SRS9181501 & NA & 4792.38 & 1 & 51862223 & 16025426907 & RIPseq: WT\\_rep1       & RIP-Seq & TRANSCRIPTOMIC & other\\\\\n",
       "\t4 & SRX11117690 & RIP-seq of Physcomitrium patens: PTB2 RIP biological replicate 3 & Physcomitrium patens & Illumina NovaSeq 6000 & Academia Sinica & SRP323685 & Physcomitrium patens raw sequence reads: TRIBE and RIP & SRS9181500 & NA & 4382.83 & 1 & 46238456 & 14287682904 & RIPseq: PTB-5myc\\_rep3 & RIP-Seq & TRANSCRIPTOMIC & other\\\\\n",
       "\t5 & SRX11117689 & RIP-seq of Physcomitrium patens: PTB2 RIP biological replicate 2 & Physcomitrium patens & Illumina NovaSeq 6000 & Academia Sinica & SRP323685 & Physcomitrium patens raw sequence reads: TRIBE and RIP & SRS9181500 & NA & 5838.25 & 1 & 61627766 & 19042979694 & RIPseq: PTB-5myc\\_rep2 & RIP-Seq & TRANSCRIPTOMIC & other\\\\\n",
       "\t6 & SRX11117688 & RIP-seq of Physcomitrium patens: PTB2 RIP biological replicate 1 & Physcomitrium patens & Illumina NovaSeq 6000 & Academia Sinica & SRP323685 & Physcomitrium patens raw sequence reads: TRIBE and RIP & SRS9181500 & NA & 4324.78 & 1 & 45959247 & 14201407323 & RIPseq: PTB-5myc\\_rep1 & RIP-Seq & TRANSCRIPTOMIC & other\\\\\n",
       "\\end{tabular}\n"
      ],
      "text/markdown": [
       "\n",
       "A data.frame: 6 × 17\n",
       "\n",
       "| <!--/--> | Experiment.Accession &lt;chr&gt; | Experiment.Title &lt;chr&gt; | Organism.Name &lt;chr&gt; | Instrument &lt;chr&gt; | Submitter &lt;chr&gt; | Study.Accession &lt;chr&gt; | Study.Title &lt;chr&gt; | Sample.Accession &lt;chr&gt; | Sample.Title &lt;lgl&gt; | Total.Size..Mb &lt;dbl&gt; | Total.RUNs &lt;int&gt; | Total.Spots &lt;int&gt; | Total.Bases &lt;dbl&gt; | Library.Name &lt;chr&gt; | Library.Strategy &lt;chr&gt; | Library.Source &lt;chr&gt; | Library.Selection &lt;chr&gt; |\n",
       "|---|---|---|---|---|---|---|---|---|---|---|---|---|---|---|---|---|---|\n",
       "| 1 | SRX11117693 | RIP-seq of Physcomitrium patens: WT RIP biological replicate 3   | Physcomitrium patens | Illumina NovaSeq 6000 | Academia Sinica | SRP323685 | Physcomitrium patens raw sequence reads: TRIBE and RIP | SRS9181501 | NA | 4524.18 | 1 | 48837348 | 15090740532 | RIPseq: WT_rep3       | RIP-Seq | TRANSCRIPTOMIC | other |\n",
       "| 2 | SRX11117692 | RIP-seq of Physcomitrium patens: WT RIP biological replicate 2   | Physcomitrium patens | Illumina NovaSeq 6000 | Academia Sinica | SRP323685 | Physcomitrium patens raw sequence reads: TRIBE and RIP | SRS9181501 | NA | 6436.34 | 1 | 70344132 | 21736336788 | RIPseq: WT_rep2       | RIP-Seq | TRANSCRIPTOMIC | other |\n",
       "| 3 | SRX11117691 | RIP-seq of Physcomitrium patens: WT RIP biological replicate 1   | Physcomitrium patens | Illumina NovaSeq 6000 | Academia Sinica | SRP323685 | Physcomitrium patens raw sequence reads: TRIBE and RIP | SRS9181501 | NA | 4792.38 | 1 | 51862223 | 16025426907 | RIPseq: WT_rep1       | RIP-Seq | TRANSCRIPTOMIC | other |\n",
       "| 4 | SRX11117690 | RIP-seq of Physcomitrium patens: PTB2 RIP biological replicate 3 | Physcomitrium patens | Illumina NovaSeq 6000 | Academia Sinica | SRP323685 | Physcomitrium patens raw sequence reads: TRIBE and RIP | SRS9181500 | NA | 4382.83 | 1 | 46238456 | 14287682904 | RIPseq: PTB-5myc_rep3 | RIP-Seq | TRANSCRIPTOMIC | other |\n",
       "| 5 | SRX11117689 | RIP-seq of Physcomitrium patens: PTB2 RIP biological replicate 2 | Physcomitrium patens | Illumina NovaSeq 6000 | Academia Sinica | SRP323685 | Physcomitrium patens raw sequence reads: TRIBE and RIP | SRS9181500 | NA | 5838.25 | 1 | 61627766 | 19042979694 | RIPseq: PTB-5myc_rep2 | RIP-Seq | TRANSCRIPTOMIC | other |\n",
       "| 6 | SRX11117688 | RIP-seq of Physcomitrium patens: PTB2 RIP biological replicate 1 | Physcomitrium patens | Illumina NovaSeq 6000 | Academia Sinica | SRP323685 | Physcomitrium patens raw sequence reads: TRIBE and RIP | SRS9181500 | NA | 4324.78 | 1 | 45959247 | 14201407323 | RIPseq: PTB-5myc_rep1 | RIP-Seq | TRANSCRIPTOMIC | other |\n",
       "\n"
      ],
      "text/plain": [
       "  Experiment.Accession\n",
       "1 SRX11117693         \n",
       "2 SRX11117692         \n",
       "3 SRX11117691         \n",
       "4 SRX11117690         \n",
       "5 SRX11117689         \n",
       "6 SRX11117688         \n",
       "  Experiment.Title                                                \n",
       "1 RIP-seq of Physcomitrium patens: WT RIP biological replicate 3  \n",
       "2 RIP-seq of Physcomitrium patens: WT RIP biological replicate 2  \n",
       "3 RIP-seq of Physcomitrium patens: WT RIP biological replicate 1  \n",
       "4 RIP-seq of Physcomitrium patens: PTB2 RIP biological replicate 3\n",
       "5 RIP-seq of Physcomitrium patens: PTB2 RIP biological replicate 2\n",
       "6 RIP-seq of Physcomitrium patens: PTB2 RIP biological replicate 1\n",
       "  Organism.Name        Instrument            Submitter       Study.Accession\n",
       "1 Physcomitrium patens Illumina NovaSeq 6000 Academia Sinica SRP323685      \n",
       "2 Physcomitrium patens Illumina NovaSeq 6000 Academia Sinica SRP323685      \n",
       "3 Physcomitrium patens Illumina NovaSeq 6000 Academia Sinica SRP323685      \n",
       "4 Physcomitrium patens Illumina NovaSeq 6000 Academia Sinica SRP323685      \n",
       "5 Physcomitrium patens Illumina NovaSeq 6000 Academia Sinica SRP323685      \n",
       "6 Physcomitrium patens Illumina NovaSeq 6000 Academia Sinica SRP323685      \n",
       "  Study.Title                                            Sample.Accession\n",
       "1 Physcomitrium patens raw sequence reads: TRIBE and RIP SRS9181501      \n",
       "2 Physcomitrium patens raw sequence reads: TRIBE and RIP SRS9181501      \n",
       "3 Physcomitrium patens raw sequence reads: TRIBE and RIP SRS9181501      \n",
       "4 Physcomitrium patens raw sequence reads: TRIBE and RIP SRS9181500      \n",
       "5 Physcomitrium patens raw sequence reads: TRIBE and RIP SRS9181500      \n",
       "6 Physcomitrium patens raw sequence reads: TRIBE and RIP SRS9181500      \n",
       "  Sample.Title Total.Size..Mb Total.RUNs Total.Spots Total.Bases\n",
       "1 NA           4524.18        1          48837348    15090740532\n",
       "2 NA           6436.34        1          70344132    21736336788\n",
       "3 NA           4792.38        1          51862223    16025426907\n",
       "4 NA           4382.83        1          46238456    14287682904\n",
       "5 NA           5838.25        1          61627766    19042979694\n",
       "6 NA           4324.78        1          45959247    14201407323\n",
       "  Library.Name          Library.Strategy Library.Source Library.Selection\n",
       "1 RIPseq: WT_rep3       RIP-Seq          TRANSCRIPTOMIC other            \n",
       "2 RIPseq: WT_rep2       RIP-Seq          TRANSCRIPTOMIC other            \n",
       "3 RIPseq: WT_rep1       RIP-Seq          TRANSCRIPTOMIC other            \n",
       "4 RIPseq: PTB-5myc_rep3 RIP-Seq          TRANSCRIPTOMIC other            \n",
       "5 RIPseq: PTB-5myc_rep2 RIP-Seq          TRANSCRIPTOMIC other            \n",
       "6 RIPseq: PTB-5myc_rep1 RIP-Seq          TRANSCRIPTOMIC other            "
      ]
     },
     "metadata": {},
     "output_type": "display_data"
    }
   ],
   "source": [
    "sra_res = read.delim('/data/passala/git/Solanum_SV_Pan_Genome/Jack_prickles/Moss_and_liverwort/Physcomitrium_files/From_hamsini_network_construction/physco_summary.csv', sep = ',', header = TRUE)\n",
    "head(sra_res)"
   ]
  },
  {
   "cell_type": "code",
   "execution_count": 4,
   "metadata": {
    "vscode": {
     "languageId": "r"
    }
   },
   "outputs": [
    {
     "data": {
      "text/plain": [
       "\n",
       "  OTHER RIP-Seq \n",
       "    104       6 "
      ]
     },
     "metadata": {},
     "output_type": "display_data"
    }
   ],
   "source": [
    "table(sra_res$Library.Strategy)"
   ]
  },
  {
   "cell_type": "code",
   "execution_count": 5,
   "metadata": {
    "vscode": {
     "languageId": "r"
    }
   },
   "outputs": [
    {
     "data": {
      "text/plain": [
       "\n",
       "Physcomitrium patens \n",
       "                 110 "
      ]
     },
     "metadata": {},
     "output_type": "display_data"
    }
   ],
   "source": [
    "table(sra_res$Organism.Name)"
   ]
  },
  {
   "cell_type": "code",
   "execution_count": 6,
   "metadata": {
    "vscode": {
     "languageId": "r"
    }
   },
   "outputs": [
    {
     "data": {
      "text/html": [],
      "text/latex": [],
      "text/markdown": [],
      "text/plain": [
       "integer(0)"
      ]
     },
     "metadata": {},
     "output_type": "display_data"
    }
   ],
   "source": [
    "# only RNA-seq data for atlantic salmon needed\n",
    "id1 = which(sra_res$Library.Strategy=='OTHER')\n",
    "id2 = which(sra_res$Organism.Name %in% c('Physcomitrium patens'))\n",
    "which(sra_res$Tumor!='no')\n",
    "sra_rna = sra_res[intersect(id1,id2),]"
   ]
  },
  {
   "cell_type": "code",
   "execution_count": 11,
   "metadata": {
    "vscode": {
     "languageId": "r"
    }
   },
   "outputs": [
    {
     "data": {
      "text/html": [
       "<table class=\"dataframe\">\n",
       "<caption>A data.frame: 6 × 17</caption>\n",
       "<thead>\n",
       "\t<tr><th></th><th scope=col>Experiment.Accession</th><th scope=col>Experiment.Title</th><th scope=col>Organism.Name</th><th scope=col>Instrument</th><th scope=col>Submitter</th><th scope=col>Study.Accession</th><th scope=col>Study.Title</th><th scope=col>Sample.Accession</th><th scope=col>Sample.Title</th><th scope=col>Total.Size..Mb</th><th scope=col>Total.RUNs</th><th scope=col>Total.Spots</th><th scope=col>Total.Bases</th><th scope=col>Library.Name</th><th scope=col>Library.Strategy</th><th scope=col>Library.Source</th><th scope=col>Library.Selection</th></tr>\n",
       "\t<tr><th></th><th scope=col>&lt;chr&gt;</th><th scope=col>&lt;chr&gt;</th><th scope=col>&lt;chr&gt;</th><th scope=col>&lt;chr&gt;</th><th scope=col>&lt;chr&gt;</th><th scope=col>&lt;chr&gt;</th><th scope=col>&lt;chr&gt;</th><th scope=col>&lt;chr&gt;</th><th scope=col>&lt;lgl&gt;</th><th scope=col>&lt;dbl&gt;</th><th scope=col>&lt;int&gt;</th><th scope=col>&lt;int&gt;</th><th scope=col>&lt;dbl&gt;</th><th scope=col>&lt;chr&gt;</th><th scope=col>&lt;chr&gt;</th><th scope=col>&lt;chr&gt;</th><th scope=col>&lt;chr&gt;</th></tr>\n",
       "</thead>\n",
       "<tbody>\n",
       "\t<tr><th scope=row>7</th><td>DRX114338</td><td>Illumina HiSeq 1500 paired end sequencing of SAMD00108959</td><td>Physcomitrium patens</td><td>Illumina HiSeq 1500</td><td>NAIST</td><td>DRP004649</td><td>Single cell transcriptome analysis of Physcomitrella leaf cells</td><td>DRS081802</td><td>NA</td><td>199.41</td><td>1</td><td>3563492</td><td>484634912</td><td>Pp24h50</td><td>OTHER</td><td>TRANSCRIPTOMIC</td><td>cDNA</td></tr>\n",
       "\t<tr><th scope=row>8</th><td>DRX114337</td><td>Illumina HiSeq 1500 paired end sequencing of SAMD00108958</td><td>Physcomitrium patens</td><td>Illumina HiSeq 1500</td><td>NAIST</td><td>DRP004649</td><td>Single cell transcriptome analysis of Physcomitrella leaf cells</td><td>DRS081801</td><td>NA</td><td>167.25</td><td>1</td><td>2794429</td><td>380042344</td><td>Pp24h49</td><td>OTHER</td><td>TRANSCRIPTOMIC</td><td>cDNA</td></tr>\n",
       "\t<tr><th scope=row>9</th><td>DRX114336</td><td>Illumina HiSeq 1500 paired end sequencing of SAMD00108957</td><td>Physcomitrium patens</td><td>Illumina HiSeq 1500</td><td>NAIST</td><td>DRP004649</td><td>Single cell transcriptome analysis of Physcomitrella leaf cells</td><td>DRS081800</td><td>NA</td><td>255.30</td><td>1</td><td>4592609</td><td>624594824</td><td>Pp24h48</td><td>OTHER</td><td>TRANSCRIPTOMIC</td><td>cDNA</td></tr>\n",
       "\t<tr><th scope=row>10</th><td>DRX114335</td><td>Illumina HiSeq 1500 paired end sequencing of SAMD00108956</td><td>Physcomitrium patens</td><td>Illumina HiSeq 1500</td><td>NAIST</td><td>DRP004649</td><td>Single cell transcriptome analysis of Physcomitrella leaf cells</td><td>DRS081799</td><td>NA</td><td>304.81</td><td>1</td><td>5466740</td><td>743476640</td><td>Pp24h47</td><td>OTHER</td><td>TRANSCRIPTOMIC</td><td>cDNA</td></tr>\n",
       "\t<tr><th scope=row>11</th><td>DRX114334</td><td>Illumina HiSeq 1500 paired end sequencing of SAMD00108955</td><td>Physcomitrium patens</td><td>Illumina HiSeq 1500</td><td>NAIST</td><td>DRP004649</td><td>Single cell transcriptome analysis of Physcomitrella leaf cells</td><td>DRS081798</td><td>NA</td><td>393.02</td><td>1</td><td>6517639</td><td>886398904</td><td>Pp24h46</td><td>OTHER</td><td>TRANSCRIPTOMIC</td><td>cDNA</td></tr>\n",
       "\t<tr><th scope=row>12</th><td>DRX114333</td><td>Illumina HiSeq 1500 paired end sequencing of SAMD00108954</td><td>Physcomitrium patens</td><td>Illumina HiSeq 1500</td><td>NAIST</td><td>DRP004649</td><td>Single cell transcriptome analysis of Physcomitrella leaf cells</td><td>DRS081797</td><td>NA</td><td>341.99</td><td>1</td><td>6012826</td><td>817744336</td><td>Pp24h45</td><td>OTHER</td><td>TRANSCRIPTOMIC</td><td>cDNA</td></tr>\n",
       "</tbody>\n",
       "</table>\n"
      ],
      "text/latex": [
       "A data.frame: 6 × 17\n",
       "\\begin{tabular}{r|lllllllllllllllll}\n",
       "  & Experiment.Accession & Experiment.Title & Organism.Name & Instrument & Submitter & Study.Accession & Study.Title & Sample.Accession & Sample.Title & Total.Size..Mb & Total.RUNs & Total.Spots & Total.Bases & Library.Name & Library.Strategy & Library.Source & Library.Selection\\\\\n",
       "  & <chr> & <chr> & <chr> & <chr> & <chr> & <chr> & <chr> & <chr> & <lgl> & <dbl> & <int> & <int> & <dbl> & <chr> & <chr> & <chr> & <chr>\\\\\n",
       "\\hline\n",
       "\t7 & DRX114338 & Illumina HiSeq 1500 paired end sequencing of SAMD00108959 & Physcomitrium patens & Illumina HiSeq 1500 & NAIST & DRP004649 & Single cell transcriptome analysis of Physcomitrella leaf cells & DRS081802 & NA & 199.41 & 1 & 3563492 & 484634912 & Pp24h50 & OTHER & TRANSCRIPTOMIC & cDNA\\\\\n",
       "\t8 & DRX114337 & Illumina HiSeq 1500 paired end sequencing of SAMD00108958 & Physcomitrium patens & Illumina HiSeq 1500 & NAIST & DRP004649 & Single cell transcriptome analysis of Physcomitrella leaf cells & DRS081801 & NA & 167.25 & 1 & 2794429 & 380042344 & Pp24h49 & OTHER & TRANSCRIPTOMIC & cDNA\\\\\n",
       "\t9 & DRX114336 & Illumina HiSeq 1500 paired end sequencing of SAMD00108957 & Physcomitrium patens & Illumina HiSeq 1500 & NAIST & DRP004649 & Single cell transcriptome analysis of Physcomitrella leaf cells & DRS081800 & NA & 255.30 & 1 & 4592609 & 624594824 & Pp24h48 & OTHER & TRANSCRIPTOMIC & cDNA\\\\\n",
       "\t10 & DRX114335 & Illumina HiSeq 1500 paired end sequencing of SAMD00108956 & Physcomitrium patens & Illumina HiSeq 1500 & NAIST & DRP004649 & Single cell transcriptome analysis of Physcomitrella leaf cells & DRS081799 & NA & 304.81 & 1 & 5466740 & 743476640 & Pp24h47 & OTHER & TRANSCRIPTOMIC & cDNA\\\\\n",
       "\t11 & DRX114334 & Illumina HiSeq 1500 paired end sequencing of SAMD00108955 & Physcomitrium patens & Illumina HiSeq 1500 & NAIST & DRP004649 & Single cell transcriptome analysis of Physcomitrella leaf cells & DRS081798 & NA & 393.02 & 1 & 6517639 & 886398904 & Pp24h46 & OTHER & TRANSCRIPTOMIC & cDNA\\\\\n",
       "\t12 & DRX114333 & Illumina HiSeq 1500 paired end sequencing of SAMD00108954 & Physcomitrium patens & Illumina HiSeq 1500 & NAIST & DRP004649 & Single cell transcriptome analysis of Physcomitrella leaf cells & DRS081797 & NA & 341.99 & 1 & 6012826 & 817744336 & Pp24h45 & OTHER & TRANSCRIPTOMIC & cDNA\\\\\n",
       "\\end{tabular}\n"
      ],
      "text/markdown": [
       "\n",
       "A data.frame: 6 × 17\n",
       "\n",
       "| <!--/--> | Experiment.Accession &lt;chr&gt; | Experiment.Title &lt;chr&gt; | Organism.Name &lt;chr&gt; | Instrument &lt;chr&gt; | Submitter &lt;chr&gt; | Study.Accession &lt;chr&gt; | Study.Title &lt;chr&gt; | Sample.Accession &lt;chr&gt; | Sample.Title &lt;lgl&gt; | Total.Size..Mb &lt;dbl&gt; | Total.RUNs &lt;int&gt; | Total.Spots &lt;int&gt; | Total.Bases &lt;dbl&gt; | Library.Name &lt;chr&gt; | Library.Strategy &lt;chr&gt; | Library.Source &lt;chr&gt; | Library.Selection &lt;chr&gt; |\n",
       "|---|---|---|---|---|---|---|---|---|---|---|---|---|---|---|---|---|---|\n",
       "| 7 | DRX114338 | Illumina HiSeq 1500 paired end sequencing of SAMD00108959 | Physcomitrium patens | Illumina HiSeq 1500 | NAIST | DRP004649 | Single cell transcriptome analysis of Physcomitrella leaf cells | DRS081802 | NA | 199.41 | 1 | 3563492 | 484634912 | Pp24h50 | OTHER | TRANSCRIPTOMIC | cDNA |\n",
       "| 8 | DRX114337 | Illumina HiSeq 1500 paired end sequencing of SAMD00108958 | Physcomitrium patens | Illumina HiSeq 1500 | NAIST | DRP004649 | Single cell transcriptome analysis of Physcomitrella leaf cells | DRS081801 | NA | 167.25 | 1 | 2794429 | 380042344 | Pp24h49 | OTHER | TRANSCRIPTOMIC | cDNA |\n",
       "| 9 | DRX114336 | Illumina HiSeq 1500 paired end sequencing of SAMD00108957 | Physcomitrium patens | Illumina HiSeq 1500 | NAIST | DRP004649 | Single cell transcriptome analysis of Physcomitrella leaf cells | DRS081800 | NA | 255.30 | 1 | 4592609 | 624594824 | Pp24h48 | OTHER | TRANSCRIPTOMIC | cDNA |\n",
       "| 10 | DRX114335 | Illumina HiSeq 1500 paired end sequencing of SAMD00108956 | Physcomitrium patens | Illumina HiSeq 1500 | NAIST | DRP004649 | Single cell transcriptome analysis of Physcomitrella leaf cells | DRS081799 | NA | 304.81 | 1 | 5466740 | 743476640 | Pp24h47 | OTHER | TRANSCRIPTOMIC | cDNA |\n",
       "| 11 | DRX114334 | Illumina HiSeq 1500 paired end sequencing of SAMD00108955 | Physcomitrium patens | Illumina HiSeq 1500 | NAIST | DRP004649 | Single cell transcriptome analysis of Physcomitrella leaf cells | DRS081798 | NA | 393.02 | 1 | 6517639 | 886398904 | Pp24h46 | OTHER | TRANSCRIPTOMIC | cDNA |\n",
       "| 12 | DRX114333 | Illumina HiSeq 1500 paired end sequencing of SAMD00108954 | Physcomitrium patens | Illumina HiSeq 1500 | NAIST | DRP004649 | Single cell transcriptome analysis of Physcomitrella leaf cells | DRS081797 | NA | 341.99 | 1 | 6012826 | 817744336 | Pp24h45 | OTHER | TRANSCRIPTOMIC | cDNA |\n",
       "\n"
      ],
      "text/plain": [
       "   Experiment.Accession\n",
       "7  DRX114338           \n",
       "8  DRX114337           \n",
       "9  DRX114336           \n",
       "10 DRX114335           \n",
       "11 DRX114334           \n",
       "12 DRX114333           \n",
       "   Experiment.Title                                         \n",
       "7  Illumina HiSeq 1500 paired end sequencing of SAMD00108959\n",
       "8  Illumina HiSeq 1500 paired end sequencing of SAMD00108958\n",
       "9  Illumina HiSeq 1500 paired end sequencing of SAMD00108957\n",
       "10 Illumina HiSeq 1500 paired end sequencing of SAMD00108956\n",
       "11 Illumina HiSeq 1500 paired end sequencing of SAMD00108955\n",
       "12 Illumina HiSeq 1500 paired end sequencing of SAMD00108954\n",
       "   Organism.Name        Instrument          Submitter Study.Accession\n",
       "7  Physcomitrium patens Illumina HiSeq 1500 NAIST     DRP004649      \n",
       "8  Physcomitrium patens Illumina HiSeq 1500 NAIST     DRP004649      \n",
       "9  Physcomitrium patens Illumina HiSeq 1500 NAIST     DRP004649      \n",
       "10 Physcomitrium patens Illumina HiSeq 1500 NAIST     DRP004649      \n",
       "11 Physcomitrium patens Illumina HiSeq 1500 NAIST     DRP004649      \n",
       "12 Physcomitrium patens Illumina HiSeq 1500 NAIST     DRP004649      \n",
       "   Study.Title                                                    \n",
       "7  Single cell transcriptome analysis of Physcomitrella leaf cells\n",
       "8  Single cell transcriptome analysis of Physcomitrella leaf cells\n",
       "9  Single cell transcriptome analysis of Physcomitrella leaf cells\n",
       "10 Single cell transcriptome analysis of Physcomitrella leaf cells\n",
       "11 Single cell transcriptome analysis of Physcomitrella leaf cells\n",
       "12 Single cell transcriptome analysis of Physcomitrella leaf cells\n",
       "   Sample.Accession Sample.Title Total.Size..Mb Total.RUNs Total.Spots\n",
       "7  DRS081802        NA           199.41         1          3563492    \n",
       "8  DRS081801        NA           167.25         1          2794429    \n",
       "9  DRS081800        NA           255.30         1          4592609    \n",
       "10 DRS081799        NA           304.81         1          5466740    \n",
       "11 DRS081798        NA           393.02         1          6517639    \n",
       "12 DRS081797        NA           341.99         1          6012826    \n",
       "   Total.Bases Library.Name Library.Strategy Library.Source Library.Selection\n",
       "7  484634912   Pp24h50      OTHER            TRANSCRIPTOMIC cDNA             \n",
       "8  380042344   Pp24h49      OTHER            TRANSCRIPTOMIC cDNA             \n",
       "9  624594824   Pp24h48      OTHER            TRANSCRIPTOMIC cDNA             \n",
       "10 743476640   Pp24h47      OTHER            TRANSCRIPTOMIC cDNA             \n",
       "11 886398904   Pp24h46      OTHER            TRANSCRIPTOMIC cDNA             \n",
       "12 817744336   Pp24h45      OTHER            TRANSCRIPTOMIC cDNA             "
      ]
     },
     "metadata": {},
     "output_type": "display_data"
    }
   ],
   "source": [
    "head(sra_rna)"
   ]
  },
  {
   "cell_type": "code",
   "execution_count": 7,
   "metadata": {
    "vscode": {
     "languageId": "r"
    }
   },
   "outputs": [
    {
     "data": {
      "text/html": [
       "'cDNA'"
      ],
      "text/latex": [
       "'cDNA'"
      ],
      "text/markdown": [
       "'cDNA'"
      ],
      "text/plain": [
       "[1] \"cDNA\""
      ]
     },
     "metadata": {},
     "output_type": "display_data"
    },
    {
     "data": {
      "text/html": [
       "<table class=\"dataframe\">\n",
       "<caption>A data.frame: 3 × 17</caption>\n",
       "<thead>\n",
       "\t<tr><th></th><th scope=col>Experiment.Accession</th><th scope=col>Experiment.Title</th><th scope=col>Organism.Name</th><th scope=col>Instrument</th><th scope=col>Submitter</th><th scope=col>Study.Accession</th><th scope=col>Study.Title</th><th scope=col>Sample.Accession</th><th scope=col>Sample.Title</th><th scope=col>Total.Size..Mb</th><th scope=col>Total.RUNs</th><th scope=col>Total.Spots</th><th scope=col>Total.Bases</th><th scope=col>Library.Name</th><th scope=col>Library.Strategy</th><th scope=col>Library.Source</th><th scope=col>Library.Selection</th></tr>\n",
       "\t<tr><th></th><th scope=col>&lt;chr&gt;</th><th scope=col>&lt;chr&gt;</th><th scope=col>&lt;chr&gt;</th><th scope=col>&lt;chr&gt;</th><th scope=col>&lt;chr&gt;</th><th scope=col>&lt;chr&gt;</th><th scope=col>&lt;chr&gt;</th><th scope=col>&lt;chr&gt;</th><th scope=col>&lt;lgl&gt;</th><th scope=col>&lt;dbl&gt;</th><th scope=col>&lt;int&gt;</th><th scope=col>&lt;int&gt;</th><th scope=col>&lt;dbl&gt;</th><th scope=col>&lt;chr&gt;</th><th scope=col>&lt;chr&gt;</th><th scope=col>&lt;chr&gt;</th><th scope=col>&lt;chr&gt;</th></tr>\n",
       "</thead>\n",
       "<tbody>\n",
       "\t<tr><th scope=row>7</th><td>DRX114338</td><td>Illumina HiSeq 1500 paired end sequencing of SAMD00108959</td><td>Physcomitrium patens</td><td>Illumina HiSeq 1500</td><td>NAIST</td><td>DRP004649</td><td>Single cell transcriptome analysis of Physcomitrella leaf cells</td><td>DRS081802</td><td>NA</td><td>199.41</td><td>1</td><td>3563492</td><td>484634912</td><td>Pp24h50</td><td>OTHER</td><td>TRANSCRIPTOMIC</td><td>cDNA</td></tr>\n",
       "\t<tr><th scope=row>8</th><td>DRX114337</td><td>Illumina HiSeq 1500 paired end sequencing of SAMD00108958</td><td>Physcomitrium patens</td><td>Illumina HiSeq 1500</td><td>NAIST</td><td>DRP004649</td><td>Single cell transcriptome analysis of Physcomitrella leaf cells</td><td>DRS081801</td><td>NA</td><td>167.25</td><td>1</td><td>2794429</td><td>380042344</td><td>Pp24h49</td><td>OTHER</td><td>TRANSCRIPTOMIC</td><td>cDNA</td></tr>\n",
       "\t<tr><th scope=row>9</th><td>DRX114336</td><td>Illumina HiSeq 1500 paired end sequencing of SAMD00108957</td><td>Physcomitrium patens</td><td>Illumina HiSeq 1500</td><td>NAIST</td><td>DRP004649</td><td>Single cell transcriptome analysis of Physcomitrella leaf cells</td><td>DRS081800</td><td>NA</td><td>255.30</td><td>1</td><td>4592609</td><td>624594824</td><td>Pp24h48</td><td>OTHER</td><td>TRANSCRIPTOMIC</td><td>cDNA</td></tr>\n",
       "</tbody>\n",
       "</table>\n"
      ],
      "text/latex": [
       "A data.frame: 3 × 17\n",
       "\\begin{tabular}{r|lllllllllllllllll}\n",
       "  & Experiment.Accession & Experiment.Title & Organism.Name & Instrument & Submitter & Study.Accession & Study.Title & Sample.Accession & Sample.Title & Total.Size..Mb & Total.RUNs & Total.Spots & Total.Bases & Library.Name & Library.Strategy & Library.Source & Library.Selection\\\\\n",
       "  & <chr> & <chr> & <chr> & <chr> & <chr> & <chr> & <chr> & <chr> & <lgl> & <dbl> & <int> & <int> & <dbl> & <chr> & <chr> & <chr> & <chr>\\\\\n",
       "\\hline\n",
       "\t7 & DRX114338 & Illumina HiSeq 1500 paired end sequencing of SAMD00108959 & Physcomitrium patens & Illumina HiSeq 1500 & NAIST & DRP004649 & Single cell transcriptome analysis of Physcomitrella leaf cells & DRS081802 & NA & 199.41 & 1 & 3563492 & 484634912 & Pp24h50 & OTHER & TRANSCRIPTOMIC & cDNA\\\\\n",
       "\t8 & DRX114337 & Illumina HiSeq 1500 paired end sequencing of SAMD00108958 & Physcomitrium patens & Illumina HiSeq 1500 & NAIST & DRP004649 & Single cell transcriptome analysis of Physcomitrella leaf cells & DRS081801 & NA & 167.25 & 1 & 2794429 & 380042344 & Pp24h49 & OTHER & TRANSCRIPTOMIC & cDNA\\\\\n",
       "\t9 & DRX114336 & Illumina HiSeq 1500 paired end sequencing of SAMD00108957 & Physcomitrium patens & Illumina HiSeq 1500 & NAIST & DRP004649 & Single cell transcriptome analysis of Physcomitrella leaf cells & DRS081800 & NA & 255.30 & 1 & 4592609 & 624594824 & Pp24h48 & OTHER & TRANSCRIPTOMIC & cDNA\\\\\n",
       "\\end{tabular}\n"
      ],
      "text/markdown": [
       "\n",
       "A data.frame: 3 × 17\n",
       "\n",
       "| <!--/--> | Experiment.Accession &lt;chr&gt; | Experiment.Title &lt;chr&gt; | Organism.Name &lt;chr&gt; | Instrument &lt;chr&gt; | Submitter &lt;chr&gt; | Study.Accession &lt;chr&gt; | Study.Title &lt;chr&gt; | Sample.Accession &lt;chr&gt; | Sample.Title &lt;lgl&gt; | Total.Size..Mb &lt;dbl&gt; | Total.RUNs &lt;int&gt; | Total.Spots &lt;int&gt; | Total.Bases &lt;dbl&gt; | Library.Name &lt;chr&gt; | Library.Strategy &lt;chr&gt; | Library.Source &lt;chr&gt; | Library.Selection &lt;chr&gt; |\n",
       "|---|---|---|---|---|---|---|---|---|---|---|---|---|---|---|---|---|---|\n",
       "| 7 | DRX114338 | Illumina HiSeq 1500 paired end sequencing of SAMD00108959 | Physcomitrium patens | Illumina HiSeq 1500 | NAIST | DRP004649 | Single cell transcriptome analysis of Physcomitrella leaf cells | DRS081802 | NA | 199.41 | 1 | 3563492 | 484634912 | Pp24h50 | OTHER | TRANSCRIPTOMIC | cDNA |\n",
       "| 8 | DRX114337 | Illumina HiSeq 1500 paired end sequencing of SAMD00108958 | Physcomitrium patens | Illumina HiSeq 1500 | NAIST | DRP004649 | Single cell transcriptome analysis of Physcomitrella leaf cells | DRS081801 | NA | 167.25 | 1 | 2794429 | 380042344 | Pp24h49 | OTHER | TRANSCRIPTOMIC | cDNA |\n",
       "| 9 | DRX114336 | Illumina HiSeq 1500 paired end sequencing of SAMD00108957 | Physcomitrium patens | Illumina HiSeq 1500 | NAIST | DRP004649 | Single cell transcriptome analysis of Physcomitrella leaf cells | DRS081800 | NA | 255.30 | 1 | 4592609 | 624594824 | Pp24h48 | OTHER | TRANSCRIPTOMIC | cDNA |\n",
       "\n"
      ],
      "text/plain": [
       "  Experiment.Accession\n",
       "7 DRX114338           \n",
       "8 DRX114337           \n",
       "9 DRX114336           \n",
       "  Experiment.Title                                         \n",
       "7 Illumina HiSeq 1500 paired end sequencing of SAMD00108959\n",
       "8 Illumina HiSeq 1500 paired end sequencing of SAMD00108958\n",
       "9 Illumina HiSeq 1500 paired end sequencing of SAMD00108957\n",
       "  Organism.Name        Instrument          Submitter Study.Accession\n",
       "7 Physcomitrium patens Illumina HiSeq 1500 NAIST     DRP004649      \n",
       "8 Physcomitrium patens Illumina HiSeq 1500 NAIST     DRP004649      \n",
       "9 Physcomitrium patens Illumina HiSeq 1500 NAIST     DRP004649      \n",
       "  Study.Title                                                    \n",
       "7 Single cell transcriptome analysis of Physcomitrella leaf cells\n",
       "8 Single cell transcriptome analysis of Physcomitrella leaf cells\n",
       "9 Single cell transcriptome analysis of Physcomitrella leaf cells\n",
       "  Sample.Accession Sample.Title Total.Size..Mb Total.RUNs Total.Spots\n",
       "7 DRS081802        NA           199.41         1          3563492    \n",
       "8 DRS081801        NA           167.25         1          2794429    \n",
       "9 DRS081800        NA           255.30         1          4592609    \n",
       "  Total.Bases Library.Name Library.Strategy Library.Source Library.Selection\n",
       "7 484634912   Pp24h50      OTHER            TRANSCRIPTOMIC cDNA             \n",
       "8 380042344   Pp24h49      OTHER            TRANSCRIPTOMIC cDNA             \n",
       "9 624594824   Pp24h48      OTHER            TRANSCRIPTOMIC cDNA             "
      ]
     },
     "metadata": {},
     "output_type": "display_data"
    }
   ],
   "source": [
    "unique(sra_rna$Library.Selection)\n",
    "sra_rna[1:3,]"
   ]
  },
  {
   "cell_type": "code",
   "execution_count": 8,
   "metadata": {
    "vscode": {
     "languageId": "r"
    }
   },
   "outputs": [
    {
     "data": {
      "text/html": [
       "'OTHER'"
      ],
      "text/latex": [
       "'OTHER'"
      ],
      "text/markdown": [
       "'OTHER'"
      ],
      "text/plain": [
       "[1] \"OTHER\""
      ]
     },
     "metadata": {},
     "output_type": "display_data"
    },
    {
     "data": {
      "text/html": [
       "'TRANSCRIPTOMIC'"
      ],
      "text/latex": [
       "'TRANSCRIPTOMIC'"
      ],
      "text/markdown": [
       "'TRANSCRIPTOMIC'"
      ],
      "text/plain": [
       "[1] \"TRANSCRIPTOMIC\""
      ]
     },
     "metadata": {},
     "output_type": "display_data"
    },
    {
     "data": {
      "text/html": [
       "<style>\n",
       ".list-inline {list-style: none; margin:0; padding: 0}\n",
       ".list-inline>li {display: inline-block}\n",
       ".list-inline>li:not(:last-child)::after {content: \"\\00b7\"; padding: 0 .5ex}\n",
       "</style>\n",
       "<ol class=list-inline><li>'DRP004649'</li><li>'DRP000664'</li><li>'SRP004443'</li></ol>\n"
      ],
      "text/latex": [
       "\\begin{enumerate*}\n",
       "\\item 'DRP004649'\n",
       "\\item 'DRP000664'\n",
       "\\item 'SRP004443'\n",
       "\\end{enumerate*}\n"
      ],
      "text/markdown": [
       "1. 'DRP004649'\n",
       "2. 'DRP000664'\n",
       "3. 'SRP004443'\n",
       "\n",
       "\n"
      ],
      "text/plain": [
       "[1] \"DRP004649\" \"DRP000664\" \"SRP004443\""
      ]
     },
     "metadata": {},
     "output_type": "display_data"
    }
   ],
   "source": [
    "unique(sra_rna$Library.Strategy)\n",
    "unique(sra_rna$Library.Source)\n",
    "unique(sra_rna$Study.Accession)"
   ]
  },
  {
   "cell_type": "code",
   "execution_count": 12,
   "metadata": {
    "vscode": {
     "languageId": "r"
    }
   },
   "outputs": [],
   "source": [
    "# write to align_salmon file\n",
    "write.table(unique(sra_rna$Study.Accession), file = '/data/passala/git/Solanum_SV_Pan_Genome/Jack_prickles/Moss_and_liverwort/From_hamsini_network_construction/align2physco.txt', sep = ',', row.names = F, col.names = F, \n",
    "            quote = F)"
   ]
  },
  {
   "cell_type": "code",
   "execution_count": 13,
   "metadata": {
    "vscode": {
     "languageId": "r"
    }
   },
   "outputs": [],
   "source": [
    "expt = sra_rna$Experiment.Accession"
   ]
  },
  {
   "cell_type": "code",
   "execution_count": 14,
   "metadata": {
    "vscode": {
     "languageId": "r"
    }
   },
   "outputs": [],
   "source": [
    "sra_runinfo = read.delim('/data/passala/git/Solanum_SV_Pan_Genome/Jack_prickles/Moss_and_liverwort/Physcomitrium_files/From_hamsini_network_construction/physco_RunInfo_big.csv', sep = ',', header = TRUE)"
   ]
  },
  {
   "cell_type": "code",
   "execution_count": 15,
   "metadata": {
    "vscode": {
     "languageId": "r"
    }
   },
   "outputs": [],
   "source": [
    "newsra_runinfo = sra_runinfo[match(expt, sra_runinfo$Experiment),]\n",
    "write.csv(newsra_runinfo, '/data/passala/git/Solanum_SV_Pan_Genome/Jack_prickles/Moss_and_liverwort/From_hamsini_network_construction/physco_RunInfo_big.csv')"
   ]
  },
  {
   "cell_type": "code",
   "execution_count": 16,
   "metadata": {
    "vscode": {
     "languageId": "r"
    }
   },
   "outputs": [
    {
     "name": "stdout",
     "output_type": "stream",
     "text": [
      "[1] \"1   DRP004649    len: 66\"\n",
      "[1] \"2   DRP000664    len: 36\"\n",
      "[1] \"3   SRP004443    len: 2\"\n"
     ]
    }
   ],
   "source": [
    "acclist = unique(sra_rna$Study.Accession)\n",
    "lens = matrix(0, nrow = length(acclist))\n",
    "for (i in 1:length(acclist)){    \n",
    "    runlist = newsra_runinfo$Run[which(as.character(newsra_runinfo$SRAStudy)==as.character(acclist[i]))]\n",
    "    lens[i] = length(runlist)\n",
    "    print(paste(i, '   ', acclist[i], '    len: ', length(runlist), sep = ''))\n",
    "}\n",
    "ids = which(lens>9)\n",
    "list2 = cbind(ids, acclist[ids], lens[ids])"
   ]
  },
  {
   "cell_type": "code",
   "execution_count": 17,
   "metadata": {
    "vscode": {
     "languageId": "r"
    }
   },
   "outputs": [
    {
     "data": {
      "text/html": [
       "<style>\n",
       ".list-inline {list-style: none; margin:0; padding: 0}\n",
       ".list-inline>li {display: inline-block}\n",
       ".list-inline>li:not(:last-child)::after {content: \"\\00b7\"; padding: 0 .5ex}\n",
       "</style>\n",
       "<ol class=list-inline><li>2</li><li>3</li></ol>\n"
      ],
      "text/latex": [
       "\\begin{enumerate*}\n",
       "\\item 2\n",
       "\\item 3\n",
       "\\end{enumerate*}\n"
      ],
      "text/markdown": [
       "1. 2\n",
       "2. 3\n",
       "\n",
       "\n"
      ],
      "text/plain": [
       "[1] 2 3"
      ]
     },
     "metadata": {},
     "output_type": "display_data"
    },
    {
     "data": {
      "text/html": [
       "<table class=\"dataframe\">\n",
       "<caption>A matrix: 2 × 3 of type chr</caption>\n",
       "<thead>\n",
       "\t<tr><th></th><th scope=col>ids</th><th scope=col></th><th scope=col></th></tr>\n",
       "</thead>\n",
       "<tbody>\n",
       "\t<tr><th scope=row>[1,]</th><td>1</td><td>DRP004649</td><td>66</td></tr>\n",
       "\t<tr><th scope=row>[2,]</th><td>2</td><td>DRP000664</td><td>36</td></tr>\n",
       "</tbody>\n",
       "</table>\n"
      ],
      "text/latex": [
       "A matrix: 2 × 3 of type chr\n",
       "\\begin{tabular}{r|lll}\n",
       "  & ids &  & \\\\\n",
       "\\hline\n",
       "\t{[}1,{]} & 1 & DRP004649 & 66\\\\\n",
       "\t{[}2,{]} & 2 & DRP000664 & 36\\\\\n",
       "\\end{tabular}\n"
      ],
      "text/markdown": [
       "\n",
       "A matrix: 2 × 3 of type chr\n",
       "\n",
       "| <!--/--> | ids | <!----> | <!----> |\n",
       "|---|---|---|---|\n",
       "| [1,] | 1 | DRP004649 | 66 |\n",
       "| [2,] | 2 | DRP000664 | 36 |\n",
       "\n"
      ],
      "text/plain": [
       "     ids             \n",
       "[1,] 1   DRP004649 66\n",
       "[2,] 2   DRP000664 36"
      ]
     },
     "metadata": {},
     "output_type": "display_data"
    }
   ],
   "source": [
    "dim(list2)\n",
    "tail(list2)"
   ]
  },
  {
   "cell_type": "code",
   "execution_count": 34,
   "metadata": {
    "vscode": {
     "languageId": "r"
    }
   },
   "outputs": [],
   "source": [
    "# write to individual project acclist files\n",
    "# \n",
    "for (j in 1:dim(list2)[1]){    \n",
    "    runlist = newsra_runinfo$Run[which(as.character(newsra_runinfo$SRAStudy)==as.character(list2[j,2]))]\n",
    "    runfilename = paste('/data/passala/git/Solanum_SV_Pan_Genome/Jack_prickles/Moss_and_liverwort/Marchantia_file_list/', list2[j,2], '_accList_1.txt', sep = '')\n",
    "    write.table(runlist, file = runfilename, sep = ',', row.names = FALSE, col.names = FALSE, \n",
    "                quote = FALSE)\n",
    "}"
   ]
  },
  {
   "cell_type": "code",
   "execution_count": 36,
   "metadata": {
    "vscode": {
     "languageId": "r"
    }
   },
   "outputs": [],
   "source": [
    "write.csv(cbind(list2[,2], list2[,3]), file = '/data/passala/git/Solanum_SV_Pan_Genome/Jack_prickles/Moss_and_liverwort/Marchantia_file_list/marchantia_accs.csv')"
   ]
  },
  {
   "cell_type": "code",
   "execution_count": null,
   "metadata": {
    "vscode": {
     "languageId": "r"
    }
   },
   "outputs": [],
   "source": []
  }
 ],
 "metadata": {
  "kernelspec": {
   "display_name": "R",
   "language": "R",
   "name": "ir"
  },
  "language_info": {
   "codemirror_mode": "r",
   "file_extension": ".r",
   "mimetype": "text/x-r-source",
   "name": "R",
   "pygments_lexer": "r",
   "version": "4.3.2"
  }
 },
 "nbformat": 4,
 "nbformat_minor": 4
}
