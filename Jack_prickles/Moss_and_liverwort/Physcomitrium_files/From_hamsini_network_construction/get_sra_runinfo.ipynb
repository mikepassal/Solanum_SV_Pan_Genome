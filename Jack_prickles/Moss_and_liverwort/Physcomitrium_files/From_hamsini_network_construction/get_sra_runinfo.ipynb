{
 "cells": [
  {
   "cell_type": "code",
   "execution_count": 1,
   "metadata": {
    "vscode": {
     "languageId": "r"
    }
   },
   "outputs": [],
   "source": [
    "# ..... get Summary and SraRunInfo files from SRA db and find how many are RNA-seq datasets ..... #"
   ]
  },
  {
   "cell_type": "code",
   "execution_count": 20,
   "metadata": {
    "vscode": {
     "languageId": "r"
    }
   },
   "outputs": [],
   "source": [
    "library(dplyr)"
   ]
  },
  {
   "cell_type": "code",
   "execution_count": 21,
   "metadata": {
    "vscode": {
     "languageId": "r"
    }
   },
   "outputs": [
    {
     "data": {
      "text/html": [
       "<table class=\"dataframe\">\n",
       "<caption>A data.frame: 6 × 17</caption>\n",
       "<thead>\n",
       "\t<tr><th></th><th scope=col>Experiment.Accession</th><th scope=col>Experiment.Title</th><th scope=col>Organism.Name</th><th scope=col>Instrument</th><th scope=col>Submitter</th><th scope=col>Study.Accession</th><th scope=col>Study.Title</th><th scope=col>Sample.Accession</th><th scope=col>Sample.Title</th><th scope=col>Total.Size..Mb</th><th scope=col>Total.RUNs</th><th scope=col>Total.Spots</th><th scope=col>Total.Bases</th><th scope=col>Library.Name</th><th scope=col>Library.Strategy</th><th scope=col>Library.Source</th><th scope=col>Library.Selection</th></tr>\n",
       "\t<tr><th></th><th scope=col>&lt;chr&gt;</th><th scope=col>&lt;chr&gt;</th><th scope=col>&lt;chr&gt;</th><th scope=col>&lt;chr&gt;</th><th scope=col>&lt;chr&gt;</th><th scope=col>&lt;chr&gt;</th><th scope=col>&lt;chr&gt;</th><th scope=col>&lt;chr&gt;</th><th scope=col>&lt;chr&gt;</th><th scope=col>&lt;dbl&gt;</th><th scope=col>&lt;int&gt;</th><th scope=col>&lt;int&gt;</th><th scope=col>&lt;dbl&gt;</th><th scope=col>&lt;chr&gt;</th><th scope=col>&lt;chr&gt;</th><th scope=col>&lt;chr&gt;</th><th scope=col>&lt;chr&gt;</th></tr>\n",
       "</thead>\n",
       "<tbody>\n",
       "\t<tr><th scope=row>1</th><td>SRX22532189</td><td>Control for mutants</td><td>Marchantia polymorpha</td><td>Illumina NovaSeq 6000</td><td>University of Cambridge</td><td>SRP471380</td><td>Chloroplast biogenesis</td><td>SRS19542340</td><td></td><td>2534.00</td><td>1</td><td>27238065</td><td>8171419500</td><td>Control 2</td><td>RNA-Seq</td><td>TRANSCRIPTOMIC</td><td>PolyA</td></tr>\n",
       "\t<tr><th scope=row>2</th><td>SRX22532188</td><td>Control for mutants</td><td>Marchantia polymorpha</td><td>Illumina NovaSeq 6000</td><td>University of Cambridge</td><td>SRP471380</td><td>Chloroplast biogenesis</td><td>SRS19542338</td><td></td><td>2570.73</td><td>1</td><td>28386759</td><td>8516027700</td><td>Control 1</td><td>RNA-Seq</td><td>TRANSCRIPTOMIC</td><td>PolyA</td></tr>\n",
       "\t<tr><th scope=row>3</th><td>SRX22524849</td><td>Mpscl mutant       </td><td>Marchantia polymorpha</td><td>Illumina NovaSeq 6000</td><td>University of Cambridge</td><td>SRP471380</td><td>Chloroplast biogenesis</td><td>SRS19536279</td><td></td><td>2664.99</td><td>1</td><td>29219906</td><td>8765971800</td><td>Mpscl-3  </td><td>RNA-Seq</td><td>TRANSCRIPTOMIC</td><td>PolyA</td></tr>\n",
       "\t<tr><th scope=row>4</th><td>SRX22524848</td><td>Mpscl mutant       </td><td>Marchantia polymorpha</td><td>Illumina NovaSeq 6000</td><td>University of Cambridge</td><td>SRP471380</td><td>Chloroplast biogenesis</td><td>SRS19536278</td><td></td><td>2427.61</td><td>1</td><td>26669705</td><td>8000911500</td><td>Mpscl-2  </td><td>RNA-Seq</td><td>TRANSCRIPTOMIC</td><td>PolyA</td></tr>\n",
       "\t<tr><th scope=row>5</th><td>SRX22524847</td><td>Mpscl mutant       </td><td>Marchantia polymorpha</td><td>Illumina NovaSeq 6000</td><td>University of Cambridge</td><td>SRP471380</td><td>Chloroplast biogenesis</td><td>SRS19536277</td><td></td><td>2573.92</td><td>1</td><td>28107889</td><td>8432366700</td><td>Mpscl-1  </td><td>RNA-Seq</td><td>TRANSCRIPTOMIC</td><td>PolyA</td></tr>\n",
       "\t<tr><th scope=row>6</th><td>SRX22519754</td><td>MpGLK overexpressor</td><td>Marchantia polymorpha</td><td>Illumina NovaSeq 6000</td><td>University of Cambridge</td><td>SRP471380</td><td>Chloroplast biogenesis</td><td>SRS19531321</td><td></td><td>2051.84</td><td>1</td><td>22072884</td><td>6621865200</td><td>GLKoe4   </td><td>RNA-Seq</td><td>TRANSCRIPTOMIC</td><td>PolyA</td></tr>\n",
       "</tbody>\n",
       "</table>\n"
      ],
      "text/latex": [
       "A data.frame: 6 × 17\n",
       "\\begin{tabular}{r|lllllllllllllllll}\n",
       "  & Experiment.Accession & Experiment.Title & Organism.Name & Instrument & Submitter & Study.Accession & Study.Title & Sample.Accession & Sample.Title & Total.Size..Mb & Total.RUNs & Total.Spots & Total.Bases & Library.Name & Library.Strategy & Library.Source & Library.Selection\\\\\n",
       "  & <chr> & <chr> & <chr> & <chr> & <chr> & <chr> & <chr> & <chr> & <chr> & <dbl> & <int> & <int> & <dbl> & <chr> & <chr> & <chr> & <chr>\\\\\n",
       "\\hline\n",
       "\t1 & SRX22532189 & Control for mutants & Marchantia polymorpha & Illumina NovaSeq 6000 & University of Cambridge & SRP471380 & Chloroplast biogenesis & SRS19542340 &  & 2534.00 & 1 & 27238065 & 8171419500 & Control 2 & RNA-Seq & TRANSCRIPTOMIC & PolyA\\\\\n",
       "\t2 & SRX22532188 & Control for mutants & Marchantia polymorpha & Illumina NovaSeq 6000 & University of Cambridge & SRP471380 & Chloroplast biogenesis & SRS19542338 &  & 2570.73 & 1 & 28386759 & 8516027700 & Control 1 & RNA-Seq & TRANSCRIPTOMIC & PolyA\\\\\n",
       "\t3 & SRX22524849 & Mpscl mutant        & Marchantia polymorpha & Illumina NovaSeq 6000 & University of Cambridge & SRP471380 & Chloroplast biogenesis & SRS19536279 &  & 2664.99 & 1 & 29219906 & 8765971800 & Mpscl-3   & RNA-Seq & TRANSCRIPTOMIC & PolyA\\\\\n",
       "\t4 & SRX22524848 & Mpscl mutant        & Marchantia polymorpha & Illumina NovaSeq 6000 & University of Cambridge & SRP471380 & Chloroplast biogenesis & SRS19536278 &  & 2427.61 & 1 & 26669705 & 8000911500 & Mpscl-2   & RNA-Seq & TRANSCRIPTOMIC & PolyA\\\\\n",
       "\t5 & SRX22524847 & Mpscl mutant        & Marchantia polymorpha & Illumina NovaSeq 6000 & University of Cambridge & SRP471380 & Chloroplast biogenesis & SRS19536277 &  & 2573.92 & 1 & 28107889 & 8432366700 & Mpscl-1   & RNA-Seq & TRANSCRIPTOMIC & PolyA\\\\\n",
       "\t6 & SRX22519754 & MpGLK overexpressor & Marchantia polymorpha & Illumina NovaSeq 6000 & University of Cambridge & SRP471380 & Chloroplast biogenesis & SRS19531321 &  & 2051.84 & 1 & 22072884 & 6621865200 & GLKoe4    & RNA-Seq & TRANSCRIPTOMIC & PolyA\\\\\n",
       "\\end{tabular}\n"
      ],
      "text/markdown": [
       "\n",
       "A data.frame: 6 × 17\n",
       "\n",
       "| <!--/--> | Experiment.Accession &lt;chr&gt; | Experiment.Title &lt;chr&gt; | Organism.Name &lt;chr&gt; | Instrument &lt;chr&gt; | Submitter &lt;chr&gt; | Study.Accession &lt;chr&gt; | Study.Title &lt;chr&gt; | Sample.Accession &lt;chr&gt; | Sample.Title &lt;chr&gt; | Total.Size..Mb &lt;dbl&gt; | Total.RUNs &lt;int&gt; | Total.Spots &lt;int&gt; | Total.Bases &lt;dbl&gt; | Library.Name &lt;chr&gt; | Library.Strategy &lt;chr&gt; | Library.Source &lt;chr&gt; | Library.Selection &lt;chr&gt; |\n",
       "|---|---|---|---|---|---|---|---|---|---|---|---|---|---|---|---|---|---|\n",
       "| 1 | SRX22532189 | Control for mutants | Marchantia polymorpha | Illumina NovaSeq 6000 | University of Cambridge | SRP471380 | Chloroplast biogenesis | SRS19542340 | <!----> | 2534.00 | 1 | 27238065 | 8171419500 | Control 2 | RNA-Seq | TRANSCRIPTOMIC | PolyA |\n",
       "| 2 | SRX22532188 | Control for mutants | Marchantia polymorpha | Illumina NovaSeq 6000 | University of Cambridge | SRP471380 | Chloroplast biogenesis | SRS19542338 | <!----> | 2570.73 | 1 | 28386759 | 8516027700 | Control 1 | RNA-Seq | TRANSCRIPTOMIC | PolyA |\n",
       "| 3 | SRX22524849 | Mpscl mutant        | Marchantia polymorpha | Illumina NovaSeq 6000 | University of Cambridge | SRP471380 | Chloroplast biogenesis | SRS19536279 | <!----> | 2664.99 | 1 | 29219906 | 8765971800 | Mpscl-3   | RNA-Seq | TRANSCRIPTOMIC | PolyA |\n",
       "| 4 | SRX22524848 | Mpscl mutant        | Marchantia polymorpha | Illumina NovaSeq 6000 | University of Cambridge | SRP471380 | Chloroplast biogenesis | SRS19536278 | <!----> | 2427.61 | 1 | 26669705 | 8000911500 | Mpscl-2   | RNA-Seq | TRANSCRIPTOMIC | PolyA |\n",
       "| 5 | SRX22524847 | Mpscl mutant        | Marchantia polymorpha | Illumina NovaSeq 6000 | University of Cambridge | SRP471380 | Chloroplast biogenesis | SRS19536277 | <!----> | 2573.92 | 1 | 28107889 | 8432366700 | Mpscl-1   | RNA-Seq | TRANSCRIPTOMIC | PolyA |\n",
       "| 6 | SRX22519754 | MpGLK overexpressor | Marchantia polymorpha | Illumina NovaSeq 6000 | University of Cambridge | SRP471380 | Chloroplast biogenesis | SRS19531321 | <!----> | 2051.84 | 1 | 22072884 | 6621865200 | GLKoe4    | RNA-Seq | TRANSCRIPTOMIC | PolyA |\n",
       "\n"
      ],
      "text/plain": [
       "  Experiment.Accession Experiment.Title    Organism.Name        \n",
       "1 SRX22532189          Control for mutants Marchantia polymorpha\n",
       "2 SRX22532188          Control for mutants Marchantia polymorpha\n",
       "3 SRX22524849          Mpscl mutant        Marchantia polymorpha\n",
       "4 SRX22524848          Mpscl mutant        Marchantia polymorpha\n",
       "5 SRX22524847          Mpscl mutant        Marchantia polymorpha\n",
       "6 SRX22519754          MpGLK overexpressor Marchantia polymorpha\n",
       "  Instrument            Submitter               Study.Accession\n",
       "1 Illumina NovaSeq 6000 University of Cambridge SRP471380      \n",
       "2 Illumina NovaSeq 6000 University of Cambridge SRP471380      \n",
       "3 Illumina NovaSeq 6000 University of Cambridge SRP471380      \n",
       "4 Illumina NovaSeq 6000 University of Cambridge SRP471380      \n",
       "5 Illumina NovaSeq 6000 University of Cambridge SRP471380      \n",
       "6 Illumina NovaSeq 6000 University of Cambridge SRP471380      \n",
       "  Study.Title            Sample.Accession Sample.Title Total.Size..Mb\n",
       "1 Chloroplast biogenesis SRS19542340                   2534.00       \n",
       "2 Chloroplast biogenesis SRS19542338                   2570.73       \n",
       "3 Chloroplast biogenesis SRS19536279                   2664.99       \n",
       "4 Chloroplast biogenesis SRS19536278                   2427.61       \n",
       "5 Chloroplast biogenesis SRS19536277                   2573.92       \n",
       "6 Chloroplast biogenesis SRS19531321                   2051.84       \n",
       "  Total.RUNs Total.Spots Total.Bases Library.Name Library.Strategy\n",
       "1 1          27238065    8171419500  Control 2    RNA-Seq         \n",
       "2 1          28386759    8516027700  Control 1    RNA-Seq         \n",
       "3 1          29219906    8765971800  Mpscl-3      RNA-Seq         \n",
       "4 1          26669705    8000911500  Mpscl-2      RNA-Seq         \n",
       "5 1          28107889    8432366700  Mpscl-1      RNA-Seq         \n",
       "6 1          22072884    6621865200  GLKoe4       RNA-Seq         \n",
       "  Library.Source Library.Selection\n",
       "1 TRANSCRIPTOMIC PolyA            \n",
       "2 TRANSCRIPTOMIC PolyA            \n",
       "3 TRANSCRIPTOMIC PolyA            \n",
       "4 TRANSCRIPTOMIC PolyA            \n",
       "5 TRANSCRIPTOMIC PolyA            \n",
       "6 TRANSCRIPTOMIC PolyA            "
      ]
     },
     "metadata": {},
     "output_type": "display_data"
    }
   ],
   "source": [
    "sra_res = read.delim('/data/passala/Collaborator_Data/Marchantia_data/test_data/marchantia_summary.csv', sep = ',', header = TRUE)\n",
    "head(sra_res)"
   ]
  },
  {
   "cell_type": "code",
   "execution_count": 22,
   "metadata": {
    "vscode": {
     "languageId": "r"
    }
   },
   "outputs": [
    {
     "data": {
      "text/plain": [
       "\n",
       "  FL-cDNA miRNA-Seq   RNA-Seq \n",
       "        8         3      1263 "
      ]
     },
     "metadata": {},
     "output_type": "display_data"
    }
   ],
   "source": [
    "table(sra_res$Library.Strategy)"
   ]
  },
  {
   "cell_type": "code",
   "execution_count": 23,
   "metadata": {
    "vscode": {
     "languageId": "r"
    }
   },
   "outputs": [
    {
     "data": {
      "text/plain": [
       "\n",
       "                   Marchantia polymorpha \n",
       "                                     907 \n",
       "Marchantia polymorpha subsp. montivagans \n",
       "                                      18 \n",
       " Marchantia polymorpha subsp. polymorpha \n",
       "                                     179 \n",
       "  Marchantia polymorpha subsp. ruderalis \n",
       "                                     170 "
      ]
     },
     "metadata": {},
     "output_type": "display_data"
    }
   ],
   "source": [
    "table(sra_res$Organism.Name)"
   ]
  },
  {
   "cell_type": "code",
   "execution_count": 24,
   "metadata": {
    "vscode": {
     "languageId": "r"
    }
   },
   "outputs": [
    {
     "data": {
      "text/html": [],
      "text/latex": [],
      "text/markdown": [],
      "text/plain": [
       "integer(0)"
      ]
     },
     "metadata": {},
     "output_type": "display_data"
    }
   ],
   "source": [
    "# only RNA-seq data for atlantic salmon needed\n",
    "id1 = which(sra_res$Library.Strategy=='RNA-Seq')\n",
    "id2 = which(sra_res$Organism.Name %in% c('Marchantia polymorpha subsp. polymorpha','Marchantia polymorpha'))\n",
    "which(sra_res$Tumor!='no')\n",
    "sra_rna = sra_res[intersect(id1,id2),]"
   ]
  },
  {
   "cell_type": "code",
   "execution_count": 25,
   "metadata": {
    "vscode": {
     "languageId": "r"
    }
   },
   "outputs": [
    {
     "data": {
      "text/html": [
       "<style>\n",
       ".list-inline {list-style: none; margin:0; padding: 0}\n",
       ".list-inline>li {display: inline-block}\n",
       ".list-inline>li:not(:last-child)::after {content: \"\\00b7\"; padding: 0 .5ex}\n",
       "</style>\n",
       "<ol class=list-inline><li>'PolyA'</li><li>'cDNA'</li><li>'RANDOM'</li><li>'Oligo-dT'</li><li>'Hybrid Selection'</li><li>'PCR'</li><li>'other'</li><li>'RT-PCR'</li><li>'unspecified'</li><li>'size fractionation'</li></ol>\n"
      ],
      "text/latex": [
       "\\begin{enumerate*}\n",
       "\\item 'PolyA'\n",
       "\\item 'cDNA'\n",
       "\\item 'RANDOM'\n",
       "\\item 'Oligo-dT'\n",
       "\\item 'Hybrid Selection'\n",
       "\\item 'PCR'\n",
       "\\item 'other'\n",
       "\\item 'RT-PCR'\n",
       "\\item 'unspecified'\n",
       "\\item 'size fractionation'\n",
       "\\end{enumerate*}\n"
      ],
      "text/markdown": [
       "1. 'PolyA'\n",
       "2. 'cDNA'\n",
       "3. 'RANDOM'\n",
       "4. 'Oligo-dT'\n",
       "5. 'Hybrid Selection'\n",
       "6. 'PCR'\n",
       "7. 'other'\n",
       "8. 'RT-PCR'\n",
       "9. 'unspecified'\n",
       "10. 'size fractionation'\n",
       "\n",
       "\n"
      ],
      "text/plain": [
       " [1] \"PolyA\"              \"cDNA\"               \"RANDOM\"            \n",
       " [4] \"Oligo-dT\"           \"Hybrid Selection\"   \"PCR\"               \n",
       " [7] \"other\"              \"RT-PCR\"             \"unspecified\"       \n",
       "[10] \"size fractionation\""
      ]
     },
     "metadata": {},
     "output_type": "display_data"
    },
    {
     "data": {
      "text/html": [
       "<table class=\"dataframe\">\n",
       "<caption>A data.frame: 3 × 17</caption>\n",
       "<thead>\n",
       "\t<tr><th></th><th scope=col>Experiment.Accession</th><th scope=col>Experiment.Title</th><th scope=col>Organism.Name</th><th scope=col>Instrument</th><th scope=col>Submitter</th><th scope=col>Study.Accession</th><th scope=col>Study.Title</th><th scope=col>Sample.Accession</th><th scope=col>Sample.Title</th><th scope=col>Total.Size..Mb</th><th scope=col>Total.RUNs</th><th scope=col>Total.Spots</th><th scope=col>Total.Bases</th><th scope=col>Library.Name</th><th scope=col>Library.Strategy</th><th scope=col>Library.Source</th><th scope=col>Library.Selection</th></tr>\n",
       "\t<tr><th></th><th scope=col>&lt;chr&gt;</th><th scope=col>&lt;chr&gt;</th><th scope=col>&lt;chr&gt;</th><th scope=col>&lt;chr&gt;</th><th scope=col>&lt;chr&gt;</th><th scope=col>&lt;chr&gt;</th><th scope=col>&lt;chr&gt;</th><th scope=col>&lt;chr&gt;</th><th scope=col>&lt;chr&gt;</th><th scope=col>&lt;dbl&gt;</th><th scope=col>&lt;int&gt;</th><th scope=col>&lt;int&gt;</th><th scope=col>&lt;dbl&gt;</th><th scope=col>&lt;chr&gt;</th><th scope=col>&lt;chr&gt;</th><th scope=col>&lt;chr&gt;</th><th scope=col>&lt;chr&gt;</th></tr>\n",
       "</thead>\n",
       "<tbody>\n",
       "\t<tr><th scope=row>1</th><td>SRX22532189</td><td>Control for mutants</td><td>Marchantia polymorpha</td><td>Illumina NovaSeq 6000</td><td>University of Cambridge</td><td>SRP471380</td><td>Chloroplast biogenesis</td><td>SRS19542340</td><td></td><td>2534.00</td><td>1</td><td>27238065</td><td>8171419500</td><td>Control 2</td><td>RNA-Seq</td><td>TRANSCRIPTOMIC</td><td>PolyA</td></tr>\n",
       "\t<tr><th scope=row>2</th><td>SRX22532188</td><td>Control for mutants</td><td>Marchantia polymorpha</td><td>Illumina NovaSeq 6000</td><td>University of Cambridge</td><td>SRP471380</td><td>Chloroplast biogenesis</td><td>SRS19542338</td><td></td><td>2570.73</td><td>1</td><td>28386759</td><td>8516027700</td><td>Control 1</td><td>RNA-Seq</td><td>TRANSCRIPTOMIC</td><td>PolyA</td></tr>\n",
       "\t<tr><th scope=row>3</th><td>SRX22524849</td><td>Mpscl mutant       </td><td>Marchantia polymorpha</td><td>Illumina NovaSeq 6000</td><td>University of Cambridge</td><td>SRP471380</td><td>Chloroplast biogenesis</td><td>SRS19536279</td><td></td><td>2664.99</td><td>1</td><td>29219906</td><td>8765971800</td><td>Mpscl-3  </td><td>RNA-Seq</td><td>TRANSCRIPTOMIC</td><td>PolyA</td></tr>\n",
       "</tbody>\n",
       "</table>\n"
      ],
      "text/latex": [
       "A data.frame: 3 × 17\n",
       "\\begin{tabular}{r|lllllllllllllllll}\n",
       "  & Experiment.Accession & Experiment.Title & Organism.Name & Instrument & Submitter & Study.Accession & Study.Title & Sample.Accession & Sample.Title & Total.Size..Mb & Total.RUNs & Total.Spots & Total.Bases & Library.Name & Library.Strategy & Library.Source & Library.Selection\\\\\n",
       "  & <chr> & <chr> & <chr> & <chr> & <chr> & <chr> & <chr> & <chr> & <chr> & <dbl> & <int> & <int> & <dbl> & <chr> & <chr> & <chr> & <chr>\\\\\n",
       "\\hline\n",
       "\t1 & SRX22532189 & Control for mutants & Marchantia polymorpha & Illumina NovaSeq 6000 & University of Cambridge & SRP471380 & Chloroplast biogenesis & SRS19542340 &  & 2534.00 & 1 & 27238065 & 8171419500 & Control 2 & RNA-Seq & TRANSCRIPTOMIC & PolyA\\\\\n",
       "\t2 & SRX22532188 & Control for mutants & Marchantia polymorpha & Illumina NovaSeq 6000 & University of Cambridge & SRP471380 & Chloroplast biogenesis & SRS19542338 &  & 2570.73 & 1 & 28386759 & 8516027700 & Control 1 & RNA-Seq & TRANSCRIPTOMIC & PolyA\\\\\n",
       "\t3 & SRX22524849 & Mpscl mutant        & Marchantia polymorpha & Illumina NovaSeq 6000 & University of Cambridge & SRP471380 & Chloroplast biogenesis & SRS19536279 &  & 2664.99 & 1 & 29219906 & 8765971800 & Mpscl-3   & RNA-Seq & TRANSCRIPTOMIC & PolyA\\\\\n",
       "\\end{tabular}\n"
      ],
      "text/markdown": [
       "\n",
       "A data.frame: 3 × 17\n",
       "\n",
       "| <!--/--> | Experiment.Accession &lt;chr&gt; | Experiment.Title &lt;chr&gt; | Organism.Name &lt;chr&gt; | Instrument &lt;chr&gt; | Submitter &lt;chr&gt; | Study.Accession &lt;chr&gt; | Study.Title &lt;chr&gt; | Sample.Accession &lt;chr&gt; | Sample.Title &lt;chr&gt; | Total.Size..Mb &lt;dbl&gt; | Total.RUNs &lt;int&gt; | Total.Spots &lt;int&gt; | Total.Bases &lt;dbl&gt; | Library.Name &lt;chr&gt; | Library.Strategy &lt;chr&gt; | Library.Source &lt;chr&gt; | Library.Selection &lt;chr&gt; |\n",
       "|---|---|---|---|---|---|---|---|---|---|---|---|---|---|---|---|---|---|\n",
       "| 1 | SRX22532189 | Control for mutants | Marchantia polymorpha | Illumina NovaSeq 6000 | University of Cambridge | SRP471380 | Chloroplast biogenesis | SRS19542340 | <!----> | 2534.00 | 1 | 27238065 | 8171419500 | Control 2 | RNA-Seq | TRANSCRIPTOMIC | PolyA |\n",
       "| 2 | SRX22532188 | Control for mutants | Marchantia polymorpha | Illumina NovaSeq 6000 | University of Cambridge | SRP471380 | Chloroplast biogenesis | SRS19542338 | <!----> | 2570.73 | 1 | 28386759 | 8516027700 | Control 1 | RNA-Seq | TRANSCRIPTOMIC | PolyA |\n",
       "| 3 | SRX22524849 | Mpscl mutant        | Marchantia polymorpha | Illumina NovaSeq 6000 | University of Cambridge | SRP471380 | Chloroplast biogenesis | SRS19536279 | <!----> | 2664.99 | 1 | 29219906 | 8765971800 | Mpscl-3   | RNA-Seq | TRANSCRIPTOMIC | PolyA |\n",
       "\n"
      ],
      "text/plain": [
       "  Experiment.Accession Experiment.Title    Organism.Name        \n",
       "1 SRX22532189          Control for mutants Marchantia polymorpha\n",
       "2 SRX22532188          Control for mutants Marchantia polymorpha\n",
       "3 SRX22524849          Mpscl mutant        Marchantia polymorpha\n",
       "  Instrument            Submitter               Study.Accession\n",
       "1 Illumina NovaSeq 6000 University of Cambridge SRP471380      \n",
       "2 Illumina NovaSeq 6000 University of Cambridge SRP471380      \n",
       "3 Illumina NovaSeq 6000 University of Cambridge SRP471380      \n",
       "  Study.Title            Sample.Accession Sample.Title Total.Size..Mb\n",
       "1 Chloroplast biogenesis SRS19542340                   2534.00       \n",
       "2 Chloroplast biogenesis SRS19542338                   2570.73       \n",
       "3 Chloroplast biogenesis SRS19536279                   2664.99       \n",
       "  Total.RUNs Total.Spots Total.Bases Library.Name Library.Strategy\n",
       "1 1          27238065    8171419500  Control 2    RNA-Seq         \n",
       "2 1          28386759    8516027700  Control 1    RNA-Seq         \n",
       "3 1          29219906    8765971800  Mpscl-3      RNA-Seq         \n",
       "  Library.Source Library.Selection\n",
       "1 TRANSCRIPTOMIC PolyA            \n",
       "2 TRANSCRIPTOMIC PolyA            \n",
       "3 TRANSCRIPTOMIC PolyA            "
      ]
     },
     "metadata": {},
     "output_type": "display_data"
    }
   ],
   "source": [
    "unique(sra_rna$Library.Selection)\n",
    "sra_rna[1:3,]"
   ]
  },
  {
   "cell_type": "code",
   "execution_count": 26,
   "metadata": {
    "vscode": {
     "languageId": "r"
    }
   },
   "outputs": [
    {
     "data": {
      "text/html": [
       "'RNA-Seq'"
      ],
      "text/latex": [
       "'RNA-Seq'"
      ],
      "text/markdown": [
       "'RNA-Seq'"
      ],
      "text/plain": [
       "[1] \"RNA-Seq\""
      ]
     },
     "metadata": {},
     "output_type": "display_data"
    },
    {
     "data": {
      "text/html": [
       "'TRANSCRIPTOMIC'"
      ],
      "text/latex": [
       "'TRANSCRIPTOMIC'"
      ],
      "text/markdown": [
       "'TRANSCRIPTOMIC'"
      ],
      "text/plain": [
       "[1] \"TRANSCRIPTOMIC\""
      ]
     },
     "metadata": {},
     "output_type": "display_data"
    },
    {
     "data": {
      "text/html": [
       "<style>\n",
       ".list-inline {list-style: none; margin:0; padding: 0}\n",
       ".list-inline>li {display: inline-block}\n",
       ".list-inline>li:not(:last-child)::after {content: \"\\00b7\"; padding: 0 .5ex}\n",
       "</style>\n",
       "<ol class=list-inline><li>'SRP471380'</li><li>'DRP010729'</li><li>'SRP459521'</li><li>'SRP441887'</li><li>'SRP425378'</li><li>'DRP009625'</li><li>'SRP415500'</li><li>'DRP009407'</li><li>'SRP414535'</li><li>'SRP397802'</li><li>'ERP136268'</li><li>'SRP394830'</li><li>'ERP138753'</li><li>'DRP008783'</li><li>'SRP387070'</li><li>'SRP387060'</li><li>'SRP386855'</li><li>'SRP386377'</li><li>'SRP325354'</li><li>'SRP377077'</li><li>'SRP366344'</li><li>'SRP360211'</li><li>'SRP357617'</li><li>'SRP354129'</li><li>'DRP008122'</li><li>'SRP357246'</li><li>'SRP348422'</li><li>'ERP133144'</li><li>'DRP007680'</li><li>'SRP336116'</li><li>'SRP334004'</li><li>'SRP332575'</li><li>'DRP007460'</li><li>'ERP123540'</li><li>'SRP306809'</li><li>'SRP306798'</li><li>'SRP214511'</li><li>'SRP300767'</li><li>'SRP296046'</li><li>'SRP295662'</li><li>'DRP006665'</li><li>'SRP286239'</li><li>'SRP274292'</li><li>'SRP268513'</li><li>'DRP005844'</li><li>'SRP241779'</li><li>'SRP189151'</li><li>'DRP005185'</li><li>'DRP004928'</li><li>'DRP004609'</li><li>'SRP115544'</li><li>'SRP159235'</li><li>'DRP004273'</li><li>'SRP132434'</li><li>'SRP114937'</li><li>'SRP092062'</li><li>'DRP003274'</li><li>'SRP074621'</li><li>'SRP069753'</li><li>'SRP062721'</li><li>'SRP049386'</li><li>'SRP035611'</li><li>'SRP029610'</li><li>'ERP004258'</li></ol>\n"
      ],
      "text/latex": [
       "\\begin{enumerate*}\n",
       "\\item 'SRP471380'\n",
       "\\item 'DRP010729'\n",
       "\\item 'SRP459521'\n",
       "\\item 'SRP441887'\n",
       "\\item 'SRP425378'\n",
       "\\item 'DRP009625'\n",
       "\\item 'SRP415500'\n",
       "\\item 'DRP009407'\n",
       "\\item 'SRP414535'\n",
       "\\item 'SRP397802'\n",
       "\\item 'ERP136268'\n",
       "\\item 'SRP394830'\n",
       "\\item 'ERP138753'\n",
       "\\item 'DRP008783'\n",
       "\\item 'SRP387070'\n",
       "\\item 'SRP387060'\n",
       "\\item 'SRP386855'\n",
       "\\item 'SRP386377'\n",
       "\\item 'SRP325354'\n",
       "\\item 'SRP377077'\n",
       "\\item 'SRP366344'\n",
       "\\item 'SRP360211'\n",
       "\\item 'SRP357617'\n",
       "\\item 'SRP354129'\n",
       "\\item 'DRP008122'\n",
       "\\item 'SRP357246'\n",
       "\\item 'SRP348422'\n",
       "\\item 'ERP133144'\n",
       "\\item 'DRP007680'\n",
       "\\item 'SRP336116'\n",
       "\\item 'SRP334004'\n",
       "\\item 'SRP332575'\n",
       "\\item 'DRP007460'\n",
       "\\item 'ERP123540'\n",
       "\\item 'SRP306809'\n",
       "\\item 'SRP306798'\n",
       "\\item 'SRP214511'\n",
       "\\item 'SRP300767'\n",
       "\\item 'SRP296046'\n",
       "\\item 'SRP295662'\n",
       "\\item 'DRP006665'\n",
       "\\item 'SRP286239'\n",
       "\\item 'SRP274292'\n",
       "\\item 'SRP268513'\n",
       "\\item 'DRP005844'\n",
       "\\item 'SRP241779'\n",
       "\\item 'SRP189151'\n",
       "\\item 'DRP005185'\n",
       "\\item 'DRP004928'\n",
       "\\item 'DRP004609'\n",
       "\\item 'SRP115544'\n",
       "\\item 'SRP159235'\n",
       "\\item 'DRP004273'\n",
       "\\item 'SRP132434'\n",
       "\\item 'SRP114937'\n",
       "\\item 'SRP092062'\n",
       "\\item 'DRP003274'\n",
       "\\item 'SRP074621'\n",
       "\\item 'SRP069753'\n",
       "\\item 'SRP062721'\n",
       "\\item 'SRP049386'\n",
       "\\item 'SRP035611'\n",
       "\\item 'SRP029610'\n",
       "\\item 'ERP004258'\n",
       "\\end{enumerate*}\n"
      ],
      "text/markdown": [
       "1. 'SRP471380'\n",
       "2. 'DRP010729'\n",
       "3. 'SRP459521'\n",
       "4. 'SRP441887'\n",
       "5. 'SRP425378'\n",
       "6. 'DRP009625'\n",
       "7. 'SRP415500'\n",
       "8. 'DRP009407'\n",
       "9. 'SRP414535'\n",
       "10. 'SRP397802'\n",
       "11. 'ERP136268'\n",
       "12. 'SRP394830'\n",
       "13. 'ERP138753'\n",
       "14. 'DRP008783'\n",
       "15. 'SRP387070'\n",
       "16. 'SRP387060'\n",
       "17. 'SRP386855'\n",
       "18. 'SRP386377'\n",
       "19. 'SRP325354'\n",
       "20. 'SRP377077'\n",
       "21. 'SRP366344'\n",
       "22. 'SRP360211'\n",
       "23. 'SRP357617'\n",
       "24. 'SRP354129'\n",
       "25. 'DRP008122'\n",
       "26. 'SRP357246'\n",
       "27. 'SRP348422'\n",
       "28. 'ERP133144'\n",
       "29. 'DRP007680'\n",
       "30. 'SRP336116'\n",
       "31. 'SRP334004'\n",
       "32. 'SRP332575'\n",
       "33. 'DRP007460'\n",
       "34. 'ERP123540'\n",
       "35. 'SRP306809'\n",
       "36. 'SRP306798'\n",
       "37. 'SRP214511'\n",
       "38. 'SRP300767'\n",
       "39. 'SRP296046'\n",
       "40. 'SRP295662'\n",
       "41. 'DRP006665'\n",
       "42. 'SRP286239'\n",
       "43. 'SRP274292'\n",
       "44. 'SRP268513'\n",
       "45. 'DRP005844'\n",
       "46. 'SRP241779'\n",
       "47. 'SRP189151'\n",
       "48. 'DRP005185'\n",
       "49. 'DRP004928'\n",
       "50. 'DRP004609'\n",
       "51. 'SRP115544'\n",
       "52. 'SRP159235'\n",
       "53. 'DRP004273'\n",
       "54. 'SRP132434'\n",
       "55. 'SRP114937'\n",
       "56. 'SRP092062'\n",
       "57. 'DRP003274'\n",
       "58. 'SRP074621'\n",
       "59. 'SRP069753'\n",
       "60. 'SRP062721'\n",
       "61. 'SRP049386'\n",
       "62. 'SRP035611'\n",
       "63. 'SRP029610'\n",
       "64. 'ERP004258'\n",
       "\n",
       "\n"
      ],
      "text/plain": [
       " [1] \"SRP471380\" \"DRP010729\" \"SRP459521\" \"SRP441887\" \"SRP425378\" \"DRP009625\"\n",
       " [7] \"SRP415500\" \"DRP009407\" \"SRP414535\" \"SRP397802\" \"ERP136268\" \"SRP394830\"\n",
       "[13] \"ERP138753\" \"DRP008783\" \"SRP387070\" \"SRP387060\" \"SRP386855\" \"SRP386377\"\n",
       "[19] \"SRP325354\" \"SRP377077\" \"SRP366344\" \"SRP360211\" \"SRP357617\" \"SRP354129\"\n",
       "[25] \"DRP008122\" \"SRP357246\" \"SRP348422\" \"ERP133144\" \"DRP007680\" \"SRP336116\"\n",
       "[31] \"SRP334004\" \"SRP332575\" \"DRP007460\" \"ERP123540\" \"SRP306809\" \"SRP306798\"\n",
       "[37] \"SRP214511\" \"SRP300767\" \"SRP296046\" \"SRP295662\" \"DRP006665\" \"SRP286239\"\n",
       "[43] \"SRP274292\" \"SRP268513\" \"DRP005844\" \"SRP241779\" \"SRP189151\" \"DRP005185\"\n",
       "[49] \"DRP004928\" \"DRP004609\" \"SRP115544\" \"SRP159235\" \"DRP004273\" \"SRP132434\"\n",
       "[55] \"SRP114937\" \"SRP092062\" \"DRP003274\" \"SRP074621\" \"SRP069753\" \"SRP062721\"\n",
       "[61] \"SRP049386\" \"SRP035611\" \"SRP029610\" \"ERP004258\""
      ]
     },
     "metadata": {},
     "output_type": "display_data"
    }
   ],
   "source": [
    "unique(sra_rna$Library.Strategy)\n",
    "unique(sra_rna$Library.Source)\n",
    "unique(sra_rna$Study.Accession)"
   ]
  },
  {
   "cell_type": "code",
   "execution_count": 27,
   "metadata": {
    "vscode": {
     "languageId": "r"
    }
   },
   "outputs": [],
   "source": [
    "# write to align_salmon file\n",
    "write.table(unique(sra_rna$Study.Accession), file = '/data/passala/git/Solanum_SV_Pan_Genome/Jack_prickles/Moss_and_liverwort/From_hamsini_network_construction/align2marchantia.txt', sep = ',', row.names = F, col.names = F, \n",
    "            quote = F)"
   ]
  },
  {
   "cell_type": "code",
   "execution_count": 28,
   "metadata": {
    "vscode": {
     "languageId": "r"
    }
   },
   "outputs": [],
   "source": [
    "expt = sra_rna$Experiment.Accession"
   ]
  },
  {
   "cell_type": "code",
   "execution_count": 29,
   "metadata": {
    "vscode": {
     "languageId": "r"
    }
   },
   "outputs": [],
   "source": [
    "sra_runinfo = read.delim('/data/passala/Collaborator_Data/Marchantia_data/test_data/marchantia_run_info.csv', sep = ',', header = TRUE)"
   ]
  },
  {
   "cell_type": "code",
   "execution_count": 30,
   "metadata": {
    "vscode": {
     "languageId": "r"
    }
   },
   "outputs": [],
   "source": [
    "newsra_runinfo = sra_runinfo[match(expt, sra_runinfo$Experiment),]\n",
    "write.csv(newsra_runinfo, '/data/passala/git/Solanum_SV_Pan_Genome/Jack_prickles/Moss_and_liverwort/From_hamsini_network_construction/marchantia_RunInfo.csv')"
   ]
  },
  {
   "cell_type": "code",
   "execution_count": 31,
   "metadata": {
    "vscode": {
     "languageId": "r"
    }
   },
   "outputs": [
    {
     "name": "stdout",
     "output_type": "stream",
     "text": [
      "[1] \"1   SRP471380    len: 45\"\n",
      "[1] \"2   DRP010729    len: 21\"\n",
      "[1] \"3   SRP459521    len: 2\"\n",
      "[1] \"4   SRP441887    len: 6\"\n",
      "[1] \"5   SRP425378    len: 6\"\n",
      "[1] \"6   DRP009625    len: 9\"\n",
      "[1] \"7   SRP415500    len: 42\"\n",
      "[1] \"8   DRP009407    len: 12\"\n",
      "[1] \"9   SRP414535    len: 12\"\n",
      "[1] \"10   SRP397802    len: 9\"\n",
      "[1] \"11   ERP136268    len: 6\"\n",
      "[1] \"12   SRP394830    len: 86\"\n",
      "[1] \"13   ERP138753    len: 6\"\n",
      "[1] \"14   DRP008783    len: 24\"\n",
      "[1] \"15   SRP387070    len: 36\"\n",
      "[1] \"16   SRP387060    len: 9\"\n",
      "[1] \"17   SRP386855    len: 24\"\n",
      "[1] \"18   SRP386377    len: 36\"\n",
      "[1] \"19   SRP325354    len: 46\"\n",
      "[1] \"20   SRP377077    len: 7\"\n",
      "[1] \"21   SRP366344    len: 54\"\n",
      "[1] \"22   SRP360211    len: 12\"\n",
      "[1] \"23   SRP357617    len: 18\"\n",
      "[1] \"24   SRP354129    len: 28\"\n",
      "[1] \"25   DRP008122    len: 18\"\n",
      "[1] \"26   SRP357246    len: 12\"\n",
      "[1] \"27   SRP348422    len: 16\"\n",
      "[1] \"28   ERP133144    len: 99\"\n",
      "[1] \"29   DRP007680    len: 8\"\n",
      "[1] \"30   SRP336116    len: 42\"\n",
      "[1] \"31   SRP334004    len: 9\"\n",
      "[1] \"32   SRP332575    len: 12\"\n",
      "[1] \"33   DRP007460    len: 11\"\n",
      "[1] \"34   ERP123540    len: 3\"\n",
      "[1] \"35   SRP306809    len: 6\"\n",
      "[1] \"36   SRP306798    len: 6\"\n",
      "[1] \"37   SRP214511    len: 9\"\n",
      "[1] \"38   SRP300767    len: 12\"\n",
      "[1] \"39   SRP296046    len: 17\"\n",
      "[1] \"40   SRP295662    len: 4\"\n",
      "[1] \"41   DRP006665    len: 24\"\n",
      "[1] \"42   SRP286239    len: 12\"\n",
      "[1] \"43   SRP274292    len: 9\"\n",
      "[1] \"44   SRP268513    len: 25\"\n",
      "[1] \"45   DRP005844    len: 6\"\n",
      "[1] \"46   SRP241779    len: 6\"\n",
      "[1] \"47   SRP189151    len: 24\"\n",
      "[1] \"48   DRP005185    len: 9\"\n",
      "[1] \"49   DRP004928    len: 10\"\n",
      "[1] \"50   DRP004609    len: 18\"\n",
      "[1] \"51   SRP115544    len: 18\"\n",
      "[1] \"52   SRP159235    len: 9\"\n",
      "[1] \"53   DRP004273    len: 9\"\n",
      "[1] \"54   SRP132434    len: 9\"\n",
      "[1] \"55   SRP114937    len: 6\"\n",
      "[1] \"56   SRP092062    len: 15\"\n",
      "[1] \"57   DRP003274    len: 11\"\n",
      "[1] \"58   SRP074621    len: 1\"\n",
      "[1] \"59   SRP069753    len: 1\"\n",
      "[1] \"60   SRP062721    len: 1\"\n",
      "[1] \"61   SRP049386    len: 8\"\n",
      "[1] \"62   SRP035611    len: 5\"\n",
      "[1] \"63   SRP029610    len: 6\"\n",
      "[1] \"64   ERP004258    len: 1\"\n"
     ]
    }
   ],
   "source": [
    "acclist = unique(sra_rna$Study.Accession)\n",
    "lens = matrix(0, nrow = length(acclist))\n",
    "for (i in 1:length(acclist)){    \n",
    "    runlist = newsra_runinfo$Run[which(as.character(newsra_runinfo$SRAStudy)==as.character(acclist[i]))]\n",
    "    lens[i] = length(runlist)\n",
    "    print(paste(i, '   ', acclist[i], '    len: ', length(runlist), sep = ''))\n",
    "}\n",
    "ids = which(lens>9)\n",
    "list2 = cbind(ids, acclist[ids], lens[ids])"
   ]
  },
  {
   "cell_type": "code",
   "execution_count": 32,
   "metadata": {
    "vscode": {
     "languageId": "r"
    }
   },
   "outputs": [
    {
     "data": {
      "text/html": [
       "<style>\n",
       ".list-inline {list-style: none; margin:0; padding: 0}\n",
       ".list-inline>li {display: inline-block}\n",
       ".list-inline>li:not(:last-child)::after {content: \"\\00b7\"; padding: 0 .5ex}\n",
       "</style>\n",
       "<ol class=list-inline><li>33</li><li>3</li></ol>\n"
      ],
      "text/latex": [
       "\\begin{enumerate*}\n",
       "\\item 33\n",
       "\\item 3\n",
       "\\end{enumerate*}\n"
      ],
      "text/markdown": [
       "1. 33\n",
       "2. 3\n",
       "\n",
       "\n"
      ],
      "text/plain": [
       "[1] 33  3"
      ]
     },
     "metadata": {},
     "output_type": "display_data"
    },
    {
     "data": {
      "text/html": [
       "<table class=\"dataframe\">\n",
       "<caption>A matrix: 6 × 3 of type chr</caption>\n",
       "<thead>\n",
       "\t<tr><th></th><th scope=col>ids</th><th scope=col></th><th scope=col></th></tr>\n",
       "</thead>\n",
       "<tbody>\n",
       "\t<tr><th scope=row>[28,]</th><td>47</td><td>SRP189151</td><td>24</td></tr>\n",
       "\t<tr><th scope=row>[29,]</th><td>49</td><td>DRP004928</td><td>10</td></tr>\n",
       "\t<tr><th scope=row>[30,]</th><td>50</td><td>DRP004609</td><td>18</td></tr>\n",
       "\t<tr><th scope=row>[31,]</th><td>51</td><td>SRP115544</td><td>18</td></tr>\n",
       "\t<tr><th scope=row>[32,]</th><td>56</td><td>SRP092062</td><td>15</td></tr>\n",
       "\t<tr><th scope=row>[33,]</th><td>57</td><td>DRP003274</td><td>11</td></tr>\n",
       "</tbody>\n",
       "</table>\n"
      ],
      "text/latex": [
       "A matrix: 6 × 3 of type chr\n",
       "\\begin{tabular}{r|lll}\n",
       "  & ids &  & \\\\\n",
       "\\hline\n",
       "\t{[}28,{]} & 47 & SRP189151 & 24\\\\\n",
       "\t{[}29,{]} & 49 & DRP004928 & 10\\\\\n",
       "\t{[}30,{]} & 50 & DRP004609 & 18\\\\\n",
       "\t{[}31,{]} & 51 & SRP115544 & 18\\\\\n",
       "\t{[}32,{]} & 56 & SRP092062 & 15\\\\\n",
       "\t{[}33,{]} & 57 & DRP003274 & 11\\\\\n",
       "\\end{tabular}\n"
      ],
      "text/markdown": [
       "\n",
       "A matrix: 6 × 3 of type chr\n",
       "\n",
       "| <!--/--> | ids | <!----> | <!----> |\n",
       "|---|---|---|---|\n",
       "| [28,] | 47 | SRP189151 | 24 |\n",
       "| [29,] | 49 | DRP004928 | 10 |\n",
       "| [30,] | 50 | DRP004609 | 18 |\n",
       "| [31,] | 51 | SRP115544 | 18 |\n",
       "| [32,] | 56 | SRP092062 | 15 |\n",
       "| [33,] | 57 | DRP003274 | 11 |\n",
       "\n"
      ],
      "text/plain": [
       "      ids             \n",
       "[28,] 47  SRP189151 24\n",
       "[29,] 49  DRP004928 10\n",
       "[30,] 50  DRP004609 18\n",
       "[31,] 51  SRP115544 18\n",
       "[32,] 56  SRP092062 15\n",
       "[33,] 57  DRP003274 11"
      ]
     },
     "metadata": {},
     "output_type": "display_data"
    }
   ],
   "source": [
    "dim(list2)\n",
    "tail(list2)"
   ]
  },
  {
   "cell_type": "code",
   "execution_count": 34,
   "metadata": {
    "vscode": {
     "languageId": "r"
    }
   },
   "outputs": [],
   "source": [
    "# write to individual project acclist files\n",
    "# \n",
    "for (j in 1:dim(list2)[1]){    \n",
    "    runlist = newsra_runinfo$Run[which(as.character(newsra_runinfo$SRAStudy)==as.character(list2[j,2]))]\n",
    "    runfilename = paste('/data/passala/git/Solanum_SV_Pan_Genome/Jack_prickles/Moss_and_liverwort/Marchantia_file_list/', list2[j,2], '_accList_1.txt', sep = '')\n",
    "    write.table(runlist, file = runfilename, sep = ',', row.names = FALSE, col.names = FALSE, \n",
    "                quote = FALSE)\n",
    "}"
   ]
  },
  {
   "cell_type": "code",
   "execution_count": 36,
   "metadata": {
    "vscode": {
     "languageId": "r"
    }
   },
   "outputs": [],
   "source": [
    "write.csv(cbind(list2[,2], list2[,3]), file = '/data/passala/git/Solanum_SV_Pan_Genome/Jack_prickles/Moss_and_liverwort/Marchantia_file_list/marchantia_accs.csv')"
   ]
  },
  {
   "cell_type": "code",
   "execution_count": null,
   "metadata": {
    "vscode": {
     "languageId": "r"
    }
   },
   "outputs": [],
   "source": []
  }
 ],
 "metadata": {
  "kernelspec": {
   "display_name": "R",
   "language": "R",
   "name": "ir"
  },
  "language_info": {
   "codemirror_mode": "r",
   "file_extension": ".r",
   "mimetype": "text/x-r-source",
   "name": "R",
   "pygments_lexer": "r",
   "version": "4.3.2"
  }
 },
 "nbformat": 4,
 "nbformat_minor": 4
}
