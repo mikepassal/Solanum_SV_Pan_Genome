{
 "cells": [
  {
   "cell_type": "code",
   "execution_count": 1,
   "metadata": {},
   "outputs": [
    {
     "name": "stdout",
     "output_type": "stream",
     "text": [
      "/data/passala/git/Solanum_SV_Pan_Genome/Miguel_macrocarpon\n"
     ]
    }
   ],
   "source": [
    "!pwd"
   ]
  },
  {
   "cell_type": "code",
   "execution_count": 2,
   "metadata": {},
   "outputs": [],
   "source": [
    "# species_1_control_path = '/data/passala/Module_paper_data/Medicago_vs_potato_salt_upper_tissue/Solanum_tuberosum/Control'\n",
    "# species_1_test_path = '/data/passala/Module_paper_data/Medicago_vs_potato_salt_upper_tissue/Solanum_tuberosum/24hr_Salt'\n",
    "# species_2_control_path = '/data/passala/Module_paper_data/Medicago_vs_potato_salt_upper_tissue/Medicago_truncatula/Control'\n",
    "# species_2_test_path = '/data/passala/Module_paper_data/Medicago_vs_potato_salt_upper_tissue/Medicago_truncatula/Long_salt_stem'\n",
    "species_1_genome = '/data/passala/Genomes/Solanum_lycopersicum_4_0'\n",
    "# species_2_genome = '/data/passala/Genomes/Medicago_truncatula'"
   ]
  },
  {
   "cell_type": "code",
   "execution_count": null,
   "metadata": {},
   "outputs": [],
   "source": [
    "# species_1_control_list =[\"SRR10723844\",\"SRR10723845\",\"SRR10723846\"]\n",
    "# species_1_test_list = ['SRR10723833', 'SRR10723832','SRR10723831']\n",
    "# species_2_control_list = ['SRR6227642','SRR6227643','SRR6227651']\n",
    "# species_2_test_list = ['SRR6227646','SRR6227647','SRR6227652']\n",
    "# run_appendix= ['Run_1', 'Run_2','Run_3']"
   ]
  },
  {
   "cell_type": "code",
   "execution_count": null,
   "metadata": {},
   "outputs": [
    {
     "name": "stdout",
     "output_type": "stream",
     "text": [
      "\n",
      "2025-02-17T16:31:40 prefetch.3.0.10: Current preference is set to retrieve SRA Normalized Format files with full base quality scores.\n",
      "2025-02-17T16:31:40 prefetch.3.0.10: 1) Downloading 'SRR10723844'...\n",
      "2025-02-17T16:31:40 prefetch.3.0.10: SRA Normalized Format file is being retrieved, if this is different from your preference, it may be due to current file availability.\n",
      "2025-02-17T16:31:40 prefetch.3.0.10:  Downloading via HTTPS...\n",
      "2025-02-17T16:33:26 prefetch.3.0.10:  HTTPS download succeed\n",
      "2025-02-17T16:33:33 prefetch.3.0.10:  'SRR10723844' is valid\n",
      "2025-02-17T16:33:33 prefetch.3.0.10: 1) 'SRR10723844' was downloaded successfully\n",
      "2025-02-17T16:33:33 prefetch.3.0.10: 'SRR10723844' has 0 unresolved dependencies\n",
      "\n",
      "2025-02-17T16:33:35 prefetch.3.0.10: Current preference is set to retrieve SRA Normalized Format files with full base quality scores.\n",
      "2025-02-17T16:33:35 prefetch.3.0.10: 1) Downloading 'SRR10723845'...\n",
      "2025-02-17T16:33:35 prefetch.3.0.10: SRA Normalized Format file is being retrieved, if this is different from your preference, it may be due to current file availability.\n",
      "2025-02-17T16:33:35 prefetch.3.0.10:  Downloading via HTTPS...\n",
      "2025-02-17T16:34:53 prefetch.3.0.10:  HTTPS download succeed\n",
      "2025-02-17T16:35:00 prefetch.3.0.10:  'SRR10723845' is valid\n",
      "2025-02-17T16:35:00 prefetch.3.0.10: 1) 'SRR10723845' was downloaded successfully\n",
      "2025-02-17T16:35:00 prefetch.3.0.10: 'SRR10723845' has 0 unresolved dependencies\n",
      "\n",
      "2025-02-17T16:35:01 prefetch.3.0.10: Current preference is set to retrieve SRA Normalized Format files with full base quality scores.\n",
      "2025-02-17T16:35:01 prefetch.3.0.10: 1) Downloading 'SRR10723846'...\n",
      "2025-02-17T16:35:01 prefetch.3.0.10: SRA Normalized Format file is being retrieved, if this is different from your preference, it may be due to current file availability.\n",
      "2025-02-17T16:35:01 prefetch.3.0.10:  Downloading via HTTPS...\n",
      "2025-02-17T16:36:48 prefetch.3.0.10:  HTTPS download succeed\n",
      "2025-02-17T16:36:57 prefetch.3.0.10:  'SRR10723846' is valid\n",
      "2025-02-17T16:36:57 prefetch.3.0.10: 1) 'SRR10723846' was downloaded successfully\n",
      "2025-02-17T16:36:57 prefetch.3.0.10: 'SRR10723846' has 0 unresolved dependencies\n"
     ]
    }
   ],
   "source": [
    "# for file in species_1_control_list:\n",
    "#     !prefetch {file} -O {species_1_control_path}"
   ]
  },
  {
   "cell_type": "code",
   "execution_count": null,
   "metadata": {},
   "outputs": [
    {
     "name": "stdout",
     "output_type": "stream",
     "text": [
      "\n",
      "2025-02-17T16:36:58 prefetch.3.0.10: Current preference is set to retrieve SRA Normalized Format files with full base quality scores.\n",
      "2025-02-17T16:36:58 prefetch.3.0.10: 1) Downloading 'SRR10723833'...\n",
      "2025-02-17T16:36:58 prefetch.3.0.10: SRA Normalized Format file is being retrieved, if this is different from your preference, it may be due to current file availability.\n",
      "2025-02-17T16:36:58 prefetch.3.0.10:  Downloading via HTTPS...\n",
      "2025-02-17T16:38:35 prefetch.3.0.10:  HTTPS download succeed\n",
      "2025-02-17T16:38:42 prefetch.3.0.10:  'SRR10723833' is valid\n",
      "2025-02-17T16:38:42 prefetch.3.0.10: 1) 'SRR10723833' was downloaded successfully\n",
      "2025-02-17T16:38:42 prefetch.3.0.10: 'SRR10723833' has 0 unresolved dependencies\n",
      "\n",
      "2025-02-17T16:38:43 prefetch.3.0.10: Current preference is set to retrieve SRA Normalized Format files with full base quality scores.\n",
      "2025-02-17T16:38:43 prefetch.3.0.10: 1) Downloading 'SRR10723832'...\n",
      "2025-02-17T16:38:43 prefetch.3.0.10: SRA Normalized Format file is being retrieved, if this is different from your preference, it may be due to current file availability.\n",
      "2025-02-17T16:38:43 prefetch.3.0.10:  Downloading via HTTPS...\n",
      "2025-02-17T16:40:23 prefetch.3.0.10:  HTTPS download succeed\n",
      "2025-02-17T16:40:31 prefetch.3.0.10:  'SRR10723832' is valid\n",
      "2025-02-17T16:40:31 prefetch.3.0.10: 1) 'SRR10723832' was downloaded successfully\n",
      "2025-02-17T16:40:31 prefetch.3.0.10: 'SRR10723832' has 0 unresolved dependencies\n",
      "\n",
      "2025-02-17T16:40:32 prefetch.3.0.10: Current preference is set to retrieve SRA Normalized Format files with full base quality scores.\n",
      "2025-02-17T16:40:32 prefetch.3.0.10: 1) Downloading 'SRR10723831'...\n",
      "2025-02-17T16:40:32 prefetch.3.0.10: SRA Normalized Format file is being retrieved, if this is different from your preference, it may be due to current file availability.\n",
      "2025-02-17T16:40:32 prefetch.3.0.10:  Downloading via HTTPS...\n",
      "2025-02-17T16:42:14 prefetch.3.0.10:  HTTPS download succeed\n",
      "2025-02-17T16:42:23 prefetch.3.0.10:  'SRR10723831' is valid\n",
      "2025-02-17T16:42:23 prefetch.3.0.10: 1) 'SRR10723831' was downloaded successfully\n",
      "2025-02-17T16:42:23 prefetch.3.0.10: 'SRR10723831' has 0 unresolved dependencies\n",
      "\n",
      "2025-02-17T16:42:24 prefetch.3.0.10: Current preference is set to retrieve SRA Normalized Format files with full base quality scores.\n",
      "2025-02-17T16:42:24 prefetch.3.0.10: 1) Downloading 'SRR6227642'...\n",
      "2025-02-17T16:42:24 prefetch.3.0.10: SRA Normalized Format file is being retrieved, if this is different from your preference, it may be due to current file availability.\n",
      "2025-02-17T16:42:24 prefetch.3.0.10:  Downloading via HTTPS...\n",
      "2025-02-17T16:43:29 prefetch.3.0.10:  HTTPS download succeed\n",
      "2025-02-17T16:43:34 prefetch.3.0.10:  'SRR6227642' is valid\n",
      "2025-02-17T16:43:34 prefetch.3.0.10: 1) 'SRR6227642' was downloaded successfully\n",
      "2025-02-17T16:43:34 prefetch.3.0.10: 'SRR6227642' has 0 unresolved dependencies\n",
      "\n",
      "2025-02-17T16:43:35 prefetch.3.0.10: Current preference is set to retrieve SRA Normalized Format files with full base quality scores.\n",
      "2025-02-17T16:43:35 prefetch.3.0.10: 1) Downloading 'SRR6227643'...\n",
      "2025-02-17T16:43:35 prefetch.3.0.10: SRA Normalized Format file is being retrieved, if this is different from your preference, it may be due to current file availability.\n",
      "2025-02-17T16:43:35 prefetch.3.0.10:  Downloading via HTTPS...\n",
      "2025-02-17T16:44:37 prefetch.3.0.10:  HTTPS download succeed\n",
      "2025-02-17T16:44:42 prefetch.3.0.10:  'SRR6227643' is valid\n",
      "2025-02-17T16:44:42 prefetch.3.0.10: 1) 'SRR6227643' was downloaded successfully\n",
      "2025-02-17T16:44:42 prefetch.3.0.10: 'SRR6227643' has 0 unresolved dependencies\n",
      "\n",
      "2025-02-17T16:44:44 prefetch.3.0.10: Current preference is set to retrieve SRA Normalized Format files with full base quality scores.\n",
      "2025-02-17T16:44:44 prefetch.3.0.10: 1) Downloading 'SRR6227651'...\n",
      "2025-02-17T16:44:44 prefetch.3.0.10: SRA Normalized Format file is being retrieved, if this is different from your preference, it may be due to current file availability.\n",
      "2025-02-17T16:44:44 prefetch.3.0.10:  Downloading via HTTPS...\n",
      "2025-02-17T16:45:44 prefetch.3.0.10:  HTTPS download succeed\n",
      "2025-02-17T16:45:49 prefetch.3.0.10:  'SRR6227651' is valid\n",
      "2025-02-17T16:45:49 prefetch.3.0.10: 1) 'SRR6227651' was downloaded successfully\n",
      "2025-02-17T16:45:49 prefetch.3.0.10: 'SRR6227651' has 0 unresolved dependencies\n",
      "\n",
      "2025-02-17T16:45:50 prefetch.3.0.10: Current preference is set to retrieve SRA Normalized Format files with full base quality scores.\n",
      "2025-02-17T16:45:50 prefetch.3.0.10: 1) Downloading 'SRR6227646'...\n",
      "2025-02-17T16:45:50 prefetch.3.0.10: SRA Normalized Format file is being retrieved, if this is different from your preference, it may be due to current file availability.\n",
      "2025-02-17T16:45:50 prefetch.3.0.10:  Downloading via HTTPS...\n",
      "2025-02-17T16:46:41 prefetch.3.0.10:  HTTPS download succeed\n",
      "2025-02-17T16:46:45 prefetch.3.0.10:  'SRR6227646' is valid\n",
      "2025-02-17T16:46:45 prefetch.3.0.10: 1) 'SRR6227646' was downloaded successfully\n",
      "2025-02-17T16:46:45 prefetch.3.0.10: 'SRR6227646' has 0 unresolved dependencies\n",
      "\n",
      "2025-02-17T16:46:47 prefetch.3.0.10: Current preference is set to retrieve SRA Normalized Format files with full base quality scores.\n",
      "2025-02-17T16:46:47 prefetch.3.0.10: 1) Downloading 'SRR6227647'...\n",
      "2025-02-17T16:46:47 prefetch.3.0.10: SRA Normalized Format file is being retrieved, if this is different from your preference, it may be due to current file availability.\n",
      "2025-02-17T16:46:47 prefetch.3.0.10:  Downloading via HTTPS...\n",
      "2025-02-17T16:47:42 prefetch.3.0.10:  HTTPS download succeed\n",
      "2025-02-17T16:47:47 prefetch.3.0.10:  'SRR6227647' is valid\n",
      "2025-02-17T16:47:47 prefetch.3.0.10: 1) 'SRR6227647' was downloaded successfully\n",
      "2025-02-17T16:47:47 prefetch.3.0.10: 'SRR6227647' has 0 unresolved dependencies\n",
      "\n",
      "2025-02-17T16:47:48 prefetch.3.0.10: Current preference is set to retrieve SRA Normalized Format files with full base quality scores.\n",
      "2025-02-17T16:47:48 prefetch.3.0.10: 1) Downloading 'SRR6227652'...\n",
      "2025-02-17T16:47:48 prefetch.3.0.10: SRA Normalized Format file is being retrieved, if this is different from your preference, it may be due to current file availability.\n",
      "2025-02-17T16:47:48 prefetch.3.0.10:  Downloading via HTTPS...\n",
      "2025-02-17T16:48:38 prefetch.3.0.10:  HTTPS download succeed\n",
      "2025-02-17T16:48:43 prefetch.3.0.10:  'SRR6227652' is valid\n",
      "2025-02-17T16:48:43 prefetch.3.0.10: 1) 'SRR6227652' was downloaded successfully\n",
      "2025-02-17T16:48:43 prefetch.3.0.10: 'SRR6227652' has 0 unresolved dependencies\n"
     ]
    }
   ],
   "source": [
    "# for file in species_1_test_list:\n",
    "#     !prefetch {file} -O {species_1_test_path}\n",
    "\n",
    "# for file in species_2_control_list:\n",
    "#     !prefetch {file} -O {species_2_control_path}\n",
    "\n",
    "# for file in species_2_test_list:\n",
    "#     !prefetch {file} -O {species_2_test_path}"
   ]
  },
  {
   "cell_type": "code",
   "execution_count": null,
   "metadata": {},
   "outputs": [
    {
     "name": "stdout",
     "output_type": "stream",
     "text": [
      "/data/passala/Module_paper_data/Medicago_vs_potato_salt_upper_tissue/Solanum_tuberosum/Control/SRR6227652\n"
     ]
    }
   ],
   "source": [
    "# !echo {species_1_control_path + '/' + file}"
   ]
  },
  {
   "cell_type": "code",
   "execution_count": null,
   "metadata": {},
   "outputs": [
    {
     "name": "stdout",
     "output_type": "stream",
     "text": [
      "spots read      : 36,216,190\n",
      "reads read      : 72,432,380\n",
      "reads written   : 72,432,380\n",
      "spots read      : 27,976,318\n",
      "reads read      : 55,952,636\n",
      "reads written   : 55,952,636\n",
      "spots read      : 38,913,679\n",
      "reads read      : 77,827,358\n",
      "reads written   : 77,827,358\n",
      "spots read      : 33,725,734\n",
      "reads read      : 67,451,468\n",
      "reads written   : 67,451,468\n",
      "spots read      : 40,217,434\n",
      "reads read      : 80,434,868\n",
      "reads written   : 80,434,868\n",
      "spots read      : 40,044,507\n",
      "reads read      : 80,089,014\n",
      "reads written   : 80,089,014\n",
      "spots read      : 20,780,604\n",
      "reads read      : 41,561,208\n",
      "reads written   : 41,561,208\n",
      "spots read      : 20,389,187\n",
      "reads read      : 40,778,374\n",
      "reads written   : 40,778,374\n",
      "spots read      : 19,770,114\n",
      "reads read      : 39,540,228\n",
      "reads written   : 39,540,228\n",
      "spots read      : 17,898,584\n",
      "reads read      : 35,797,168\n",
      "reads written   : 35,797,168\n",
      "spots read      : 19,949,282\n",
      "reads read      : 39,898,564\n",
      "reads written   : 39,898,564\n",
      "spots read      : 19,156,522\n",
      "reads read      : 38,313,044\n",
      "reads written   : 38,313,044\n"
     ]
    }
   ],
   "source": [
    "# for file in species_1_control_list:\n",
    "#     !fasterq-dump --split-files {species_1_control_path+'/'+file} -O {species_1_control_path} -e 30\n",
    "\n",
    "# for file in species_1_test_list:\n",
    "#     !fasterq-dump --split-files {species_1_test_path+'/'+file} -O {species_1_test_path} -e 30\n",
    "\n",
    "# for file in species_2_control_list:\n",
    "#     !fasterq-dump --split-files {species_2_control_path+'/'+file} -O {species_2_control_path} -e 30\n",
    "\n",
    "# for file in species_2_test_list:\n",
    "#     !fasterq-dump --split-files {species_2_test_path+'/'+file} -O {species_2_test_path} -e 30"
   ]
  },
  {
   "cell_type": "code",
   "execution_count": null,
   "metadata": {},
   "outputs": [],
   "source": []
  },
  {
   "cell_type": "code",
   "execution_count": null,
   "metadata": {},
   "outputs": [
    {
     "name": "stdout",
     "output_type": "stream",
     "text": [
      "spots read      : 27,798,388\n",
      "reads read      : 55,596,776\n",
      "reads written   : 55,596,776\n",
      "spots read      : 32,945,582\n",
      "reads read      : 65,891,164\n",
      "reads written   : 65,891,164\n",
      "spots read      : 33,041,654\n",
      "reads read      : 66,083,308\n",
      "reads written   : 66,083,308\n"
     ]
    }
   ],
   "source": [
    "# for file in species_1_test_list:\n",
    "#     !fasterq-dump --split-files {species_1_test_path+'/'+file} -O {species_1_test_path}"
   ]
  },
  {
   "cell_type": "code",
   "execution_count": 4,
   "metadata": {},
   "outputs": [
    {
     "name": "stdout",
     "output_type": "stream",
     "text": [
      "Apr 15 11:08:25 ..... started STAR run\n",
      "Apr 15 11:08:25 ... starting to generate Genome files\n",
      "Apr 15 11:08:38 ... starting to sort Suffix Array. This may take a long time...\n",
      "Apr 15 11:08:41 ... sorting Suffix Array chunks and saving them to disk...\n",
      "Apr 15 11:10:18 ... loading chunks from disk, packing SA...\n",
      "Apr 15 11:10:44 ... finished generating suffix array\n",
      "Apr 15 11:10:44 ... generating Suffix Array index\n",
      "Apr 15 11:11:28 ... completed Suffix Array index\n",
      "Apr 15 11:11:28 ..... processing annotations GTF\n",
      "Apr 15 11:11:30 ..... inserting junctions into the genome indices\n",
      "Apr 15 11:12:17 ... writing Genome to disk ...\n",
      "Apr 15 11:12:21 ... writing Suffix Array to disk ...\n",
      "Apr 15 11:12:29 ... writing SAindex to disk\n",
      "Apr 15 11:12:30 ..... finished successfully\n"
     ]
    }
   ],
   "source": [
    "\n",
    "!/data/passala/Module_paper_data/Medicago_vs_potato_salt_upper_tissue/STAR  --runThreadN 24 --runMode genomeGenerate --genomeDir /data/passala/Genomes/Solanum_lycopersicum_4_0 --genomeFastaFiles /data/passala/Genomes/Solanum_lycopersicum_4_0/SL4.0.fa --sjdbGTFfile /data/passala/Genomes/Solanum_lycopersicum_4_0/genes.gtf --sjdbOverhang 100 --genomeSAindexNbases 13\t"
   ]
  },
  {
   "cell_type": "code",
   "execution_count": 5,
   "metadata": {},
   "outputs": [
    {
     "name": "stdout",
     "output_type": "stream",
     "text": [
      "Apr 15 11:15:19 ..... started STAR run\n",
      "Apr 15 11:15:19 ..... loading genome\n",
      "Apr 15 11:15:27 ..... started mapping\n",
      "Apr 15 11:17:04 ..... finished mapping\n",
      "Apr 15 11:17:05 ..... finished successfully\n"
     ]
    }
   ],
   "source": [
    "\n",
    "!/data/passala/Module_paper_data/Medicago_vs_potato_salt_upper_tissue/STAR --runThreadN 30 --genomeDir {species_1_genome} --readFilesIn /data/passala/Module_paper_data/Arabi_tomato_heat_stress_comparison/low_heat_tomato/SRR10003670_1.fastq /data/passala/Module_paper_data/Arabi_tomato_heat_stress_comparison/low_heat_tomato/SRR10003670_2.fastq  --outSAMtype None --outFileNamePrefix /data/passala/Collaborator_Data/Zach_Pan_solanum_Data/Macrocarpon_tcp_miguel/Test_alignment/test_alignment_4_0_version --quantMode GeneCounts"
   ]
  },
  {
   "cell_type": "code",
   "execution_count": 11,
   "metadata": {},
   "outputs": [
    {
     "name": "stdout",
     "output_type": "stream",
     "text": [
      "Feb 17 13:23:50 ..... started STAR run\n",
      "Feb 17 13:23:50 ..... loading genome\n",
      "Feb 17 13:23:57 ..... started mapping\n",
      "Feb 17 13:31:09 ..... finished mapping\n",
      "Feb 17 13:31:12 ..... finished successfully\n",
      "Feb 17 13:31:12 ..... started STAR run\n",
      "Feb 17 13:31:12 ..... loading genome\n",
      "Feb 17 13:31:19 ..... started mapping\n",
      "Feb 17 13:40:10 ..... finished mapping\n",
      "Feb 17 13:40:13 ..... finished successfully\n",
      "Feb 17 13:40:13 ..... started STAR run\n",
      "Feb 17 13:40:13 ..... loading genome\n",
      "Feb 17 13:40:20 ..... started mapping\n",
      "Feb 17 13:48:49 ..... finished mapping\n",
      "Feb 17 13:48:52 ..... finished successfully\n"
     ]
    }
   ],
   "source": [
    "for file,run in zip(species_1_test_list,run_appendix):\n",
    "    !./STAR --runThreadN 30 --genomeDir {species_1_genome} --readFilesIn {species_1_test_path+'/'+file+'_1.fastq'} {species_1_test_path+'/'+file+'_2.fastq'} --outSAMtype None --outFileNamePrefix {species_1_test_path+'/'+run} --quantMode GeneCounts"
   ]
  },
  {
   "cell_type": "code",
   "execution_count": 12,
   "metadata": {},
   "outputs": [
    {
     "name": "stdout",
     "output_type": "stream",
     "text": [
      "Feb 17 13:48:52 ..... started STAR run\n",
      "Feb 17 13:48:52 ..... loading genome\n",
      "Feb 17 13:49:02 ..... started mapping\n",
      "Feb 17 14:04:43 ..... finished mapping\n",
      "Feb 17 14:04:45 ..... finished successfully\n",
      "Feb 17 14:04:46 ..... started STAR run\n",
      "Feb 17 14:04:46 ..... loading genome\n",
      "Feb 17 14:04:49 ..... started mapping\n",
      "Feb 17 14:17:17 ..... finished mapping\n",
      "Feb 17 14:17:18 ..... finished successfully\n",
      "Feb 17 14:17:19 ..... started STAR run\n",
      "Feb 17 14:17:19 ..... loading genome\n",
      "Feb 17 14:17:22 ..... started mapping\n",
      "Feb 17 14:32:33 ..... finished mapping\n",
      "Feb 17 14:32:35 ..... finished successfully\n"
     ]
    }
   ],
   "source": [
    "for file,run in zip(species_2_control_list,run_appendix):\n",
    "    !./STAR --runThreadN 30 --genomeDir {species_2_genome} --readFilesIn {species_2_control_path+'/'+file+'_1.fastq'} {species_2_control_path+'/'+file+'_2.fastq'} --outSAMtype None --outFileNamePrefix {species_2_control_path+'/'+run} --quantMode GeneCounts"
   ]
  },
  {
   "cell_type": "code",
   "execution_count": 13,
   "metadata": {},
   "outputs": [
    {
     "name": "stdout",
     "output_type": "stream",
     "text": [
      "Feb 17 14:32:36 ..... started STAR run\n",
      "Feb 17 14:32:36 ..... loading genome\n",
      "Feb 17 14:32:38 ..... started mapping\n",
      "Feb 17 14:46:23 ..... finished mapping\n",
      "Feb 17 14:46:25 ..... finished successfully\n",
      "Feb 17 14:46:26 ..... started STAR run\n",
      "Feb 17 14:46:26 ..... loading genome\n",
      "Feb 17 14:46:28 ..... started mapping\n",
      "Feb 17 15:00:17 ..... finished mapping\n",
      "Feb 17 15:00:19 ..... finished successfully\n",
      "Feb 17 15:00:20 ..... started STAR run\n",
      "Feb 17 15:00:20 ..... loading genome\n",
      "Feb 17 15:00:22 ..... started mapping\n",
      "Feb 17 15:16:16 ..... finished mapping\n",
      "Feb 17 15:16:17 ..... finished successfully\n"
     ]
    }
   ],
   "source": [
    "for file,run in zip(species_2_test_list,run_appendix):\n",
    "    !./STAR --runThreadN 30 --genomeDir {species_2_genome} --readFilesIn {species_2_test_path+'/'+file+'_1.fastq'} {species_2_test_path+'/'+file+'_2.fastq'} --outSAMtype None --outFileNamePrefix {species_2_test_path+'/'+run} --quantMode GeneCounts"
   ]
  },
  {
   "cell_type": "code",
   "execution_count": null,
   "metadata": {},
   "outputs": [],
   "source": []
  }
 ],
 "metadata": {
  "kernelspec": {
   "display_name": "Genomealign",
   "language": "python",
   "name": "python3"
  },
  "language_info": {
   "codemirror_mode": {
    "name": "ipython",
    "version": 2
   },
   "file_extension": ".py",
   "mimetype": "text/x-python",
   "name": "python",
   "nbconvert_exporter": "python",
   "pygments_lexer": "ipython2",
   "version": "undefined.undefined.undefined"
  }
 },
 "nbformat": 4,
 "nbformat_minor": 2
}
