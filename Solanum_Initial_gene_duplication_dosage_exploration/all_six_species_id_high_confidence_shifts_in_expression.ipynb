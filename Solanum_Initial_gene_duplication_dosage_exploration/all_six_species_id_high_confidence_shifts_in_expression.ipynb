{
 "cells": [
  {
   "cell_type": "code",
   "execution_count": null,
   "metadata": {},
   "outputs": [],
   "source": []
  }
 ],
 "metadata": {
  "kernelspec": {
   "display_name": "Python 3.7.7 ('base')",
   "language": "python",
   "name": "python3"
  },
  "language_info": {
   "name": "python",
   "version": "3.7.7"
  },
  "orig_nbformat": 4,
  "vscode": {
   "interpreter": {
    "hash": "e6654a85238c133fef59b371c1eaea3b64a7d189f63636639ce3d928de792f1f"
   }
  }
 },
 "nbformat": 4,
 "nbformat_minor": 2
}
